{
 "cells": [
  {
   "cell_type": "code",
   "execution_count": 4,
   "metadata": {},
   "outputs": [],
   "source": [
    "from transformers import GPT2Tokenizer\n",
    "\n",
    "import utils"
   ]
  },
  {
   "cell_type": "code",
   "execution_count": 5,
   "metadata": {},
   "outputs": [],
   "source": [
    "# import article data and create tokenizer\n",
    "article_data = utils.load_article_data(path='../data/cleaned_data/')\n",
    "tokenizer = GPT2Tokenizer.from_pretrained('gpt2')"
   ]
  },
  {
   "cell_type": "code",
   "execution_count": 3,
   "metadata": {},
   "outputs": [
    {
     "ename": "KeyError",
     "evalue": "'content'",
     "output_type": "error",
     "traceback": [
      "\u001b[1;31m---------------------------------------------------------------------------\u001b[0m",
      "\u001b[1;31mKeyError\u001b[0m                                  Traceback (most recent call last)",
      "File \u001b[1;32m~\\AppData\\Local\\Packages\\PythonSoftwareFoundation.Python.3.10_qbz5n2kfra8p0\\LocalCache\\local-packages\\Python310\\site-packages\\pandas\\core\\indexes\\base.py:3361\u001b[0m, in \u001b[0;36mIndex.get_loc\u001b[1;34m(self, key, method, tolerance)\u001b[0m\n\u001b[0;32m   3360\u001b[0m \u001b[39mtry\u001b[39;00m:\n\u001b[1;32m-> 3361\u001b[0m     \u001b[39mreturn\u001b[39;00m \u001b[39mself\u001b[39;49m\u001b[39m.\u001b[39;49m_engine\u001b[39m.\u001b[39;49mget_loc(casted_key)\n\u001b[0;32m   3362\u001b[0m \u001b[39mexcept\u001b[39;00m \u001b[39mKeyError\u001b[39;00m \u001b[39mas\u001b[39;00m err:\n",
      "File \u001b[1;32m~\\AppData\\Local\\Packages\\PythonSoftwareFoundation.Python.3.10_qbz5n2kfra8p0\\LocalCache\\local-packages\\Python310\\site-packages\\pandas\\_libs\\index.pyx:76\u001b[0m, in \u001b[0;36mpandas._libs.index.IndexEngine.get_loc\u001b[1;34m()\u001b[0m\n",
      "File \u001b[1;32m~\\AppData\\Local\\Packages\\PythonSoftwareFoundation.Python.3.10_qbz5n2kfra8p0\\LocalCache\\local-packages\\Python310\\site-packages\\pandas\\_libs\\index.pyx:108\u001b[0m, in \u001b[0;36mpandas._libs.index.IndexEngine.get_loc\u001b[1;34m()\u001b[0m\n",
      "File \u001b[1;32mpandas\\_libs\\hashtable_class_helper.pxi:5198\u001b[0m, in \u001b[0;36mpandas._libs.hashtable.PyObjectHashTable.get_item\u001b[1;34m()\u001b[0m\n",
      "File \u001b[1;32mpandas\\_libs\\hashtable_class_helper.pxi:5206\u001b[0m, in \u001b[0;36mpandas._libs.hashtable.PyObjectHashTable.get_item\u001b[1;34m()\u001b[0m\n",
      "\u001b[1;31mKeyError\u001b[0m: 'content'",
      "\nThe above exception was the direct cause of the following exception:\n",
      "\u001b[1;31mKeyError\u001b[0m                                  Traceback (most recent call last)",
      "\u001b[1;32mc:\\Users\\alecc\\Documents\\Natural Language Processing\\NLPFinalProject\\src\\trans_tokenizer.ipynb Cell 3\u001b[0m line \u001b[0;36m1\n\u001b[0;32m     <a href='vscode-notebook-cell:/c%3A/Users/alecc/Documents/Natural%20Language%20Processing/NLPFinalProject/src/trans_tokenizer.ipynb#W2sZmlsZQ%3D%3D?line=12'>13</a>\u001b[0m     articles_and_headlines \u001b[39m=\u001b[39m \u001b[39mzip\u001b[39m(article_data[filename][\u001b[39m'\u001b[39m\u001b[39mArticle text\u001b[39m\u001b[39m'\u001b[39m], article_data[filename][\u001b[39m'\u001b[39m\u001b[39mHeadline\u001b[39m\u001b[39m'\u001b[39m])\n\u001b[0;32m     <a href='vscode-notebook-cell:/c%3A/Users/alecc/Documents/Natural%20Language%20Processing/NLPFinalProject/src/trans_tokenizer.ipynb#W2sZmlsZQ%3D%3D?line=13'>14</a>\u001b[0m \u001b[39melse\u001b[39;00m:\n\u001b[1;32m---> <a href='vscode-notebook-cell:/c%3A/Users/alecc/Documents/Natural%20Language%20Processing/NLPFinalProject/src/trans_tokenizer.ipynb#W2sZmlsZQ%3D%3D?line=14'>15</a>\u001b[0m     articles_and_headlines \u001b[39m=\u001b[39m \u001b[39mzip\u001b[39m(article_data[filename][\u001b[39m'\u001b[39;49m\u001b[39mcontent\u001b[39;49m\u001b[39m'\u001b[39;49m], article_data[filename][\u001b[39m'\u001b[39m\u001b[39mtitle\u001b[39m\u001b[39m'\u001b[39m])\n\u001b[0;32m     <a href='vscode-notebook-cell:/c%3A/Users/alecc/Documents/Natural%20Language%20Processing/NLPFinalProject/src/trans_tokenizer.ipynb#W2sZmlsZQ%3D%3D?line=15'>16</a>\u001b[0m \u001b[39mfor\u001b[39;00m article, headline \u001b[39min\u001b[39;00m articles_and_headlines:\n\u001b[0;32m     <a href='vscode-notebook-cell:/c%3A/Users/alecc/Documents/Natural%20Language%20Processing/NLPFinalProject/src/trans_tokenizer.ipynb#W2sZmlsZQ%3D%3D?line=16'>17</a>\u001b[0m     \u001b[39m# NOTE: hardcoding 50 as max char length for now for testing purposes\u001b[39;00m\n\u001b[0;32m     <a href='vscode-notebook-cell:/c%3A/Users/alecc/Documents/Natural%20Language%20Processing/NLPFinalProject/src/trans_tokenizer.ipynb#W2sZmlsZQ%3D%3D?line=17'>18</a>\u001b[0m     \u001b[39mtry\u001b[39;00m:\n",
      "File \u001b[1;32m~\\AppData\\Local\\Packages\\PythonSoftwareFoundation.Python.3.10_qbz5n2kfra8p0\\LocalCache\\local-packages\\Python310\\site-packages\\pandas\\core\\frame.py:3458\u001b[0m, in \u001b[0;36mDataFrame.__getitem__\u001b[1;34m(self, key)\u001b[0m\n\u001b[0;32m   3456\u001b[0m \u001b[39mif\u001b[39;00m \u001b[39mself\u001b[39m\u001b[39m.\u001b[39mcolumns\u001b[39m.\u001b[39mnlevels \u001b[39m>\u001b[39m \u001b[39m1\u001b[39m:\n\u001b[0;32m   3457\u001b[0m     \u001b[39mreturn\u001b[39;00m \u001b[39mself\u001b[39m\u001b[39m.\u001b[39m_getitem_multilevel(key)\n\u001b[1;32m-> 3458\u001b[0m indexer \u001b[39m=\u001b[39m \u001b[39mself\u001b[39;49m\u001b[39m.\u001b[39;49mcolumns\u001b[39m.\u001b[39;49mget_loc(key)\n\u001b[0;32m   3459\u001b[0m \u001b[39mif\u001b[39;00m is_integer(indexer):\n\u001b[0;32m   3460\u001b[0m     indexer \u001b[39m=\u001b[39m [indexer]\n",
      "File \u001b[1;32m~\\AppData\\Local\\Packages\\PythonSoftwareFoundation.Python.3.10_qbz5n2kfra8p0\\LocalCache\\local-packages\\Python310\\site-packages\\pandas\\core\\indexes\\base.py:3363\u001b[0m, in \u001b[0;36mIndex.get_loc\u001b[1;34m(self, key, method, tolerance)\u001b[0m\n\u001b[0;32m   3361\u001b[0m         \u001b[39mreturn\u001b[39;00m \u001b[39mself\u001b[39m\u001b[39m.\u001b[39m_engine\u001b[39m.\u001b[39mget_loc(casted_key)\n\u001b[0;32m   3362\u001b[0m     \u001b[39mexcept\u001b[39;00m \u001b[39mKeyError\u001b[39;00m \u001b[39mas\u001b[39;00m err:\n\u001b[1;32m-> 3363\u001b[0m         \u001b[39mraise\u001b[39;00m \u001b[39mKeyError\u001b[39;00m(key) \u001b[39mfrom\u001b[39;00m \u001b[39merr\u001b[39;00m\n\u001b[0;32m   3365\u001b[0m \u001b[39mif\u001b[39;00m is_scalar(key) \u001b[39mand\u001b[39;00m isna(key) \u001b[39mand\u001b[39;00m \u001b[39mnot\u001b[39;00m \u001b[39mself\u001b[39m\u001b[39m.\u001b[39mhasnans:\n\u001b[0;32m   3366\u001b[0m     \u001b[39mraise\u001b[39;00m \u001b[39mKeyError\u001b[39;00m(key)\n",
      "\u001b[1;31mKeyError\u001b[0m: 'content'"
     ]
    }
   ],
   "source": [
    "# for each set of articles, tokenize and save articles and article headlines\n",
    "tokenized_articles = {}\n",
    "tokenized_titles = {}\n",
    "err_rows = 0\n",
    "for filename in article_data.keys():\n",
    "    tokenized_articles[filename] = []\n",
    "    tokenized_titles[filename] = []\n",
    "    # TODO: maybe clean data beforehand, not sure if we should be putting articles from all datasets together or not\n",
    "    # normalize variables (some datasets have different title names)\n",
    "    if filename == 'Articles.csv':\n",
    "        articles_and_headlines = zip(article_data[filename]['Article'], article_data[filename]['Heading'])\n",
    "    elif filename == 'CNN_Articels_clean.zip':\n",
    "        articles_and_headlines = zip(article_data[filename]['Article text'], article_data[filename]['Headline'])\n",
    "    else:\n",
    "        articles_and_headlines = zip(article_data[filename]['content'], article_data[filename]['title'])\n",
    "    for article, headline in articles_and_headlines:\n",
    "        # NOTE: hardcoding 50 as max char length for now for testing purposes\n",
    "        try:\n",
    "            tokenized_articles[filename].append(tokenizer.encode(article[:50].strip()))\n",
    "            tokenized_titles[filename].append(tokenizer.encode(headline))\n",
    "        except:\n",
    "            # for now, just ignore (and count) the articles that have invalid data\n",
    "            # we can clean it up later\n",
    "            err_rows += 1"
   ]
  },
  {
   "cell_type": "code",
   "execution_count": null,
   "metadata": {},
   "outputs": [
    {
     "name": "stdout",
     "output_type": "stream",
     "text": [
      "[[42, 1503, 16219, 40, 25, 383, 44830, 71, 1230, 468, 3066, 284, 2222], [39, 18494, 509, 18494, 25, 7740, 5939, 2067, 1853, 319, 281, 510, 2032, 259], [39, 18494, 509, 18494, 25, 220, 9764, 9071, 7303, 4721, 657, 13, 2791, 1411, 300], [39, 18494, 509, 18494, 25, 7740, 5939, 256, 11137, 3431, 1708], [13965, 28154, 25, 1294, 3056, 4536, 3321, 18859, 2174, 720, 1120, 257], [3791, 1971, 25, 11474, 4536, 256, 11137, 3431, 284, 4713, 642, 13, 20, 12], [42, 1503, 16219, 40, 25, 13535, 40317, 319, 3217, 5954, 262, 7624, 2611], [29974, 11656, 25, 11474, 3214, 2252, 287, 7229, 3321, 11, 351, 266], [42, 1503, 16219, 40, 25, 854, 4316, 1000, 1910, 3965, 329, 7543, 5710], [23060, 35, 36231, 25, 11474, 4536, 3214, 352, 1411, 319, 3583, 46088], [10468, 31159, 46, 25, 11790, 14420, 4721, 657, 13, 4524, 1411, 2793, 319, 370], [39, 18494, 509, 18494, 25, 9764, 9071, 14420, 45871, 510, 657, 13, 1731, 1411], [23421, 25, 2159, 3056, 4536, 3405, 6302, 3217, 706, 294], [1797, 43, 2390, 6242, 2885, 25, 5882, 43359, 286, 5672, 319, 5252, 4429], [50, 2751, 2969, 6965, 25, 23357, 14897, 3056, 4536, 14018, 1088, 720, 20], [1797, 43, 2390, 6242, 2885, 25, 317, 734, 2888, 5583, 23052, 284, 12774], [1797, 43, 2390, 6242, 2885, 25, 383, 2351, 13944, 4333, 38018], [48559, 9071, 25, 7740, 5939, 7083, 511, 7903, 428], [1797, 43, 2390, 6242, 2885, 25, 383, 11279, 22819, 1883, 4606, 286], [50, 2751, 2969, 6965, 25, 7420, 9671, 338, 649, 5822, 318, 2938, 284], [1797, 43, 2390, 6242, 2885, 25, 383, 2351, 13944, 4333, 38018], [1797, 43, 2390, 6242, 2885, 25, 15007, 4139, 1148, 3099, 80, 7491, 994, 319, 3309], [1797, 43, 2390, 6242, 2885, 25, 7648, 338, 7044, 5252, 18772, 326, 289], [1797, 43, 2390, 6242, 2885, 25, 554, 257, 1445, 284, 1577, 8259, 284, 7008, 11], [48559, 9071, 25, 383, 11063, 7083, 663, 8810, 1028, 262], [3791, 1971, 25, 11474, 4536, 3405, 6302, 3431, 422, 2237, 12, 5948], [42, 1503, 16219, 40, 25, 1812, 5018, 286, 7648, 357, 16811, 47, 8, 8153, 319], [3791, 1971, 25, 11474, 256, 11137, 284, 1474, 257, 2237, 12, 1941, 1877, 3300, 710], [1797, 43, 2390, 6242, 2885, 25, 220, 5618, 4139, 329, 15007, 1148, 3099, 80, 7491], [13965, 28154, 25, 1294, 4773, 389, 10240, 262, 1126], [23421, 25, 8060, 3056, 4536, 27803, 3583, 1708], [1797, 43, 2390, 6242, 2885, 25, 5618, 1812, 4139, 329, 5638, 290, 7695], [23421, 25, 11474, 4536, 3214, 2252, 3635, 355, 262, 17266], [35, 52, 4339, 40, 25, 47595, 1022, 7648, 290, 262, 2445, 341, 64], [42, 1503, 16219, 40, 25, 383, 2457, 28652, 286, 3999, 6161], [23421, 25, 11474, 4536, 7083, 8810, 319, 3217, 379, 262], [1797, 43, 2390, 6242, 2885, 25, 383, 9475, 286, 5638, 290, 4333, 4884], [10468, 31159, 46, 25, 11790, 14420, 4721, 352, 13, 2931, 1411, 2440, 319], [1797, 43, 2390, 6242, 2885, 25, 383, 6414, 2121, 287, 262, 2756, 286, 4273], [23421, 25, 11474, 4536, 6190, 2252, 3321, 351, 809], [43, 47383, 25, 3517, 3331, 43841, 31681, 1345, 66, 6848, 319], [29974, 11656, 25, 11474, 4536, 3214, 287, 7229, 319, 3431, 6580, 660], [42422, 34892, 5777, 1503, 6242, 2885, 25, 383, 2558, 430, 12, 42, 1077, 10793, 3292, 2139, 481], [1797, 43, 2390, 6242, 2885, 25, 5537, 4139, 41179, 1031, 44144, 319, 3300, 2516, 6814], [23060, 35, 36231, 25, 34761, 17372, 468, 42046, 4505, 351, 256], [37753, 14299, 25, 5413, 29362, 7648, 3414, 262], [1797, 43, 2390, 6242, 2885, 25, 5618, 15007, 4139, 1148, 3099, 80, 7491, 319, 309], [1797, 43, 2390, 6242, 2885, 25, 5070, 468, 1234, 287, 1295, 649, 5704, 267], [29974, 11656, 25, 11474, 4536, 45871, 2440, 287, 7229, 48971, 6814], [23421, 25, 2159, 3056, 4536, 8278, 3217, 11, 16610, 523]]\n",
      "[[82, 521, 71, 467, 36540, 13267, 284, 2005, 1171, 4839, 33164, 416, 767, 14751, 479, 20259, 302, 73], [23218, 14420, 510, 287, 649, 614, 2083], [71, 506, 479, 506, 14420, 1280, 657, 13, 2791, 1411, 2793], [292, 666, 14420, 14595, 11063, 1474, 5193, 614, 220], [385, 3056, 4536, 13819, 2174, 2026, 257, 29069], [9437, 7127, 649, 642, 13, 20, 614, 34119, 355, 473, 463, 271, 4404, 220], [16308, 680, 479, 325, 18045, 625, 4747, 830, 10590, 13054], [9437, 8953, 2252, 287, 355, 666, 2083], [82, 35652, 4536, 4268, 284, 44608, 5125, 13, 1795, 287, 264, 521], [9437, 14582, 9089, 355, 995, 3331, 6630, 3349, 329], [83, 482, 8226, 14420, 1280, 657, 13, 4524, 1411, 2793], [71, 506, 479, 506, 14420, 1280, 657, 13, 1731, 1411, 2440], [9437, 1910, 18841, 319, 37941, 64, 1128, 273], [9567, 83, 743, 1011, 510, 284, 3478, 1528, 284, 10980, 34139, 1790, 363], [65, 1156, 14897, 11831, 1088, 2026], [13116, 5545, 284, 9114, 6622, 267, 46784, 4497, 329, 5252, 4442, 72], [1662, 2649, 4884, 329, 7741, 287, 8744, 4530, 329, 479, 283, 14299, 497, 1050], [23218, 14420, 4632, 2440, 4058, 286, 9940, 65, 3249], [68, 535, 43770, 10784, 286, 352, 13, 17, 1510, 10860, 286, 220], [3605, 473, 47928, 5822, 1775, 4769, 1627, 319, 267, 43106, 2450, 284, 1394, 3056, 5072, 1880], [77, 538, 430, 15174, 479, 5186, 422, 13157, 16430, 374], [69, 14149, 5342, 598, 81, 1417, 319, 279, 461, 865, 1726, 72, 4896, 220], [41091, 4103, 5252, 4902, 21990, 319, 3884, 2861, 1272, 10038, 88], [6449, 3225, 2756, 2938, 284, 307, 34930, 416, 44608, 838, 583, 6578, 81], [44252, 16047, 8810, 355, 544, 14420, 1354], [9437, 18841, 18939, 422, 2237, 614, 34119, 355, 8872, 220], [36299, 79, 22145, 318, 2543, 291, 6341, 284, 307, 517, 1602, 270, 397], [9437, 1017, 8142, 355, 514, 14897, 14072, 13853, 284, 1700, 1880], [69, 14149, 5342, 26459, 1936, 1411, 2620, 287, 308, 301, 319, 755, 990], [385, 33124, 10038, 893, 7955, 4086], [9437, 4536, 10649, 706, 7903], [3919, 555, 43499, 3440, 39543, 6609, 287, 262, 1499, 450, 312, 15059, 34965], [9437, 4536, 9117, 220], [41091, 545, 69, 6130, 13796, 4381, 329, 2650, 286, 642, 1507, 3939, 72], [20311, 28652, 286, 1315, 442, 3762, 11874, 14443, 379, 479, 283, 14299, 16964], [9437, 14582, 8810, 878, 514, 3946, 288], [28484, 329, 22626, 76, 86, 5127, 284, 479, 5186, 2314, 307, 16434, 11957], [83, 482, 8226, 14420, 1280, 510, 352, 13, 2931, 583], [13881, 2838, 1853, 2497, 1700, 5466, 286, 34139, 287, 279, 8182], [9437, 4536, 9117, 308, 1872], [11994, 15630, 15534, 1509, 747, 3331, 46622, 625, 5456, 1687], [9437, 4536, 2121, 355, 37941, 64, 26334, 4939, 23623], [600, 430, 479, 1077, 10793, 3292, 42626, 706, 2237, 1110], [41091, 4103, 3382, 1903, 7822, 286, 9814, 72, 1628, 220], [8940, 417, 4536, 41483, 287, 38132, 1373, 544, 4058, 286, 995, 18912], [77, 22903, 22951, 10668, 985, 5611, 287, 279, 8182], [66, 6988, 1271, 783, 1687, 1271, 691, 2706, 3142, 299, 34106, 288, 283], [9567, 83, 36794, 649, 5704, 286, 44608, 19, 2855, 72], [9437, 4536, 4485, 287, 355, 666, 2083], [9437, 4536, 9117, 308, 1872]]\n",
      "231\n"
     ]
    }
   ],
   "source": [
    "# testing cell\n",
    "print(tokenized_articles['Articles.csv'][:50])\n",
    "# for key in article_data:\n",
    "#     print(article_data[key].dtypes)\n",
    "#     print(\"\\n\\n\\n\")\n",
    "print(tokenized_titles['Articles.csv'][:50])\n",
    "# print(article_data['articles2.zip'].dtypes)\n",
    "print(err_rows)"
   ]
  },
  {
   "cell_type": "code",
   "execution_count": 5,
   "metadata": {},
   "outputs": [],
   "source": [
    "# depending on our final representations then we might want to add a save/load to utils\n",
    "# and call those here"
   ]
  }
 ],
 "metadata": {
  "kernelspec": {
   "display_name": "Python 3",
   "language": "python",
   "name": "python3"
  },
  "language_info": {
   "codemirror_mode": {
    "name": "ipython",
    "version": 3
   },
   "file_extension": ".py",
   "mimetype": "text/x-python",
   "name": "python",
   "nbconvert_exporter": "python",
   "pygments_lexer": "ipython3",
   "version": "3.10.11"
  }
 },
 "nbformat": 4,
 "nbformat_minor": 2
}
