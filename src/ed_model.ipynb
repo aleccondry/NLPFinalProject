{
 "cells": [
  {
   "cell_type": "code",
   "execution_count": 1,
   "metadata": {},
   "outputs": [],
   "source": [
    "import pandas as pd\n",
    "import numpy as np\n",
    "import spacy\n",
    "import matplotlib.pyplot as plt\n",
    "from sklearn.model_selection import train_test_split\n",
    "from keras.layers import Input, LSTM, Embedding, Dense, TimeDistributed\n",
    "from keras.models import Model, load_model\n",
    "from keras.callbacks import EarlyStopping\n",
    "import utils\n",
    "import os"
   ]
  },
  {
   "cell_type": "code",
   "execution_count": 2,
   "metadata": {},
   "outputs": [],
   "source": [
    "CLEANED_TEST_FILE = '../data/test_data.txt'\n",
    "CLEANED_TRAIN_FILE = '../data/train_data.txt'\n",
    "SAVE_MODEL_PATH_ENCODER = '../trained_models/encoder_model.h5'\n",
    "SAVE_MODEL_PATH_DECODER = '../trained_models/decoder_model.h5'\n",
    "NUM_ELEMENTS = 50000"
   ]
  },
  {
   "cell_type": "code",
   "execution_count": null,
   "metadata": {},
   "outputs": [],
   "source": [
    "# Check if files exist, if not run clean_datasets.ipynb\n",
    "if not \"test_data.txt\" in os.listdir('../data/') or not \"train_data.txt\" in os.listdir('../data/'):\n",
    "    print(\"Run clean_datasets.ipynb before continuing\")\n",
    "else:\n",
    "    print(\"Ready to go!\")"
   ]
  },
  {
   "cell_type": "code",
   "execution_count": 3,
   "metadata": {},
   "outputs": [
    {
     "name": "stdout",
     "output_type": "stream",
     "text": [
      "at this week’s facebook f8 conference in san jose, mark   zuckerberg doubled down on his  first revealed   in april 2016. ” ”   here’s the current version of that roadmap, revealed by   zuckerberg this week:  ” ’  ’ ”   basically, zuckerberg’s uses this roadmap to   demonstrate facebook’s   game plan in action:   first, you take the time to develop a neat     technology. then you build a product base\n",
      "the smartphone is eventually going to die — this is mark zuckerberg’s crazy vision for what comes next\n",
      "49999\n",
      "49999\n"
     ]
    }
   ],
   "source": [
    "\n",
    "\n",
    "articles = []\n",
    "headlines = []\n",
    "\n",
    "# Get training and test data from files\n",
    "with open(CLEANED_TRAIN_FILE,'r', encoding=\"utf-8\") as file:\n",
    "    data = file.readlines()\n",
    "    for line in data:\n",
    "        line = line.split(' TL;DR ')\n",
    "        articles.append(line[0].lower().strip())\n",
    "        headlines.append(line[1].lower().strip())    \n",
    "with open(CLEANED_TEST_FILE,'r', encoding=\"utf-8\") as file:\n",
    "    data = file.readlines()\n",
    "    for line in data:\n",
    "        line = line.split(' TL;DR ')\n",
    "        articles.append(line[0].lower().strip())\n",
    "        headlines.append(line[1].lower().strip())\n",
    "\n",
    "articles = articles[0:NUM_ELEMENTS]\n",
    "headlines = headlines[0:NUM_ELEMENTS]\n",
    "print(articles[0])\n",
    "print(headlines[0])\n",
    "print(len(articles))\n",
    "print(len(headlines))\n",
    "pre_proc = pd.DataFrame({'text': articles, 'summary': headlines}, columns=['text', 'summary'])"
   ]
  },
  {
   "cell_type": "code",
   "execution_count": 4,
   "metadata": {},
   "outputs": [
    {
     "name": "stdout",
     "output_type": "stream",
     "text": [
      "                                                text  \\\n",
      "0  at this week’s facebook f8 conference in san j...   \n",
      "1  ross douthat of the new york times has admitte...   \n",
      "\n",
      "                                             summary  \n",
      "0  the smartphone is eventually going to die — th...  \n",
      "1  douthat: hillary offered nothing to #nevertrum...  \n"
     ]
    }
   ],
   "source": [
    "print(pre_proc.head(2))"
   ]
  },
  {
   "cell_type": "code",
   "execution_count": 5,
   "metadata": {},
   "outputs": [],
   "source": [
    "brief_cleaning_text = utils.text_strip(pre_proc['text'])\n",
    "brief_cleaning_summary = utils.text_strip(pre_proc['summary'])"
   ]
  },
  {
   "cell_type": "code",
   "execution_count": 6,
   "metadata": {},
   "outputs": [],
   "source": [
    "nlp = spacy.load('en_core_web_sm', disable=['ner', 'parser']) \n",
    "\n",
    "# Process text as batches and yield Doc objects in order\n",
    "text = [str(doc) for doc in nlp.pipe(brief_cleaning_text, batch_size=5000)]\n",
    "summary = ['_START_ '+ str(doc) + ' _END_' for doc in nlp.pipe(brief_cleaning_summary, batch_size=5000)]"
   ]
  },
  {
   "cell_type": "code",
   "execution_count": 7,
   "metadata": {},
   "outputs": [
    {
     "name": "stdout",
     "output_type": "stream",
     "text": [
      "at this week’s facebook f8 conference in san jose mark zuckerberg doubled down on his first revealed in april 2016 here’s the current version of that roadmap revealed by zuckerberg this week ” basically zuckerberg’s uses this roadmap to demonstrate facebook’s game plan in action first you take the time to develop neat technology then you build product base\n",
      "_START_ the smartphone is eventually going to die this is mark zuckerberg’s crazy vision for what comes next _END_\n"
     ]
    }
   ],
   "source": [
    "print(text[0])\n",
    "print(summary[0])"
   ]
  },
  {
   "cell_type": "code",
   "execution_count": 8,
   "metadata": {},
   "outputs": [],
   "source": [
    "pre_proc['cleaned_text'] = pd.Series(text)\n",
    "pre_proc['cleaned_summary'] = pd.Series(summary)"
   ]
  },
  {
   "cell_type": "code",
   "execution_count": 9,
   "metadata": {},
   "outputs": [
    {
     "data": {
      "image/png": "[encoded data removed]",
      "text/plain": [
       "<Figure size 640x480 with 2 Axes>"
      ]
     },
     "metadata": {},
     "output_type": "display_data"
    }
   ],
   "source": [
    "text_count = []\n",
    "summary_count = []\n",
    "\n",
    "for sent in pre_proc['cleaned_text']:\n",
    "    text_count.append(len(sent.split()))\n",
    "    \n",
    "for sent in pre_proc['cleaned_summary']:\n",
    "    summary_count.append(len(sent.split()))\n",
    "\n",
    "graph_df = pd.DataFrame() \n",
    "\n",
    "graph_df['text'] = text_count\n",
    "graph_df['summary'] = summary_count\n",
    "\n",
    "graph_df.hist(bins = 5)\n",
    "plt.show()"
   ]
  },
  {
   "cell_type": "code",
   "execution_count": 10,
   "metadata": {},
   "outputs": [
    {
     "name": "stdout",
     "output_type": "stream",
     "text": [
      "1.0\n"
     ]
    }
   ],
   "source": [
    "# Check how much % of text have 0-100 words\n",
    "cnt = 0\n",
    "for i in pre_proc['cleaned_text']:\n",
    "    if len(i.split()) <= 100:\n",
    "        cnt = cnt + 1\n",
    "print(cnt / len(pre_proc['cleaned_text']))\n",
    "\n",
    "# Model to summarize the text between 0-15 words for Summary and 0-100 words for Text\n",
    "max_text_len = 100\n",
    "max_summary_len = 15"
   ]
  },
  {
   "cell_type": "code",
   "execution_count": 11,
   "metadata": {},
   "outputs": [
    {
     "data": {
      "text/html": [
       "<div>\n",
       "<style scoped>\n",
       "    .dataframe tbody tr th:only-of-type {\n",
       "        vertical-align: middle;\n",
       "    }\n",
       "\n",
       "    .dataframe tbody tr th {\n",
       "        vertical-align: top;\n",
       "    }\n",
       "\n",
       "    .dataframe thead th {\n",
       "        text-align: right;\n",
       "    }\n",
       "</style>\n",
       "<table border=\"1\" class=\"dataframe\">\n",
       "  <thead>\n",
       "    <tr style=\"text-align: right;\">\n",
       "      <th></th>\n",
       "      <th>text</th>\n",
       "      <th>summary</th>\n",
       "    </tr>\n",
       "  </thead>\n",
       "  <tbody>\n",
       "    <tr>\n",
       "      <th>0</th>\n",
       "      <td>ross douthat of the new york times has admitte...</td>\n",
       "      <td>_START_ douthat hillary offered nothing to #ne...</td>\n",
       "    </tr>\n",
       "    <tr>\n",
       "      <th>1</th>\n",
       "      <td>president donald trump that removed the nation...</td>\n",
       "      <td>_START_ trump just made an unprecedented ’radi...</td>\n",
       "    </tr>\n",
       "  </tbody>\n",
       "</table>\n",
       "</div>"
      ],
      "text/plain": [
       "                                                text  \\\n",
       "0  ross douthat of the new york times has admitte...   \n",
       "1  president donald trump that removed the nation...   \n",
       "\n",
       "                                             summary  \n",
       "0  _START_ douthat hillary offered nothing to #ne...  \n",
       "1  _START_ trump just made an unprecedented ’radi...  "
      ]
     },
     "execution_count": 11,
     "metadata": {},
     "output_type": "execute_result"
    }
   ],
   "source": [
    "cleaned_text = np.array(pre_proc['cleaned_text'])\n",
    "cleaned_summary= np.array(pre_proc['cleaned_summary'])\n",
    "\n",
    "short_text = []\n",
    "short_summary = []\n",
    "\n",
    "for i in range(len(cleaned_text)):\n",
    "    if len(cleaned_summary[i].split()) <= max_summary_len and len(cleaned_text[i].split()) <= max_text_len:\n",
    "        short_text.append(cleaned_text[i])\n",
    "        short_summary.append(cleaned_summary[i])\n",
    "        \n",
    "post_pre = pd.DataFrame({'text': short_text,'summary': short_summary})\n",
    "post_pre.head(2)"
   ]
  },
  {
   "cell_type": "code",
   "execution_count": 12,
   "metadata": {},
   "outputs": [
    {
     "name": "stdout",
     "output_type": "stream",
     "text": [
      "                                                    text  \\\n",
      "0      ross douthat of the new york times has admitte...   \n",
      "1      president donald trump that removed the nation...   \n",
      "2      cnn airplane carrying two seriously ill patien...   \n",
      "3      president trump stood by his campaign promise ...   \n",
      "4      assuming senate democrats cannot torpedo his c...   \n",
      "...                                                  ...   \n",
      "42843  cnn florida man tried to set convenience store...   \n",
      "42844  since 2009 rapper corey miller has been servin...   \n",
      "42845  the battle between senator ted cruz and donald...   \n",
      "42846  cnn donald trump has had terrible few days he ...   \n",
      "42847  berlin ap onlookers apparently shouted “jump b...   \n",
      "\n",
      "                                                 summary  \n",
      "0      sostok _START_ douthat hillary offered nothing...  \n",
      "1      sostok _START_ trump just made an unprecedente...  \n",
      "2      sostok _START_ risky flight from south pole ar...  \n",
      "3      sostok _START_ trump tells reporters ‘walls wo...  \n",
      "4      sostok _START_ exclusive—regnery why law enfor...  \n",
      "...                                                  ...  \n",
      "42843  sostok _START_ arson suspect thought shop owne...  \n",
      "42844  sostok _START_ officials investigate how rappe...  \n",
      "42845  sostok _START_ trump vs cruz wrecking the esta...  \n",
      "42846  sostok _START_ keep trump comments in perspect...  \n",
      "42847  sostok _START_ onlookers shouted ’jump’ before...  \n",
      "\n",
      "[42848 rows x 2 columns]\n"
     ]
    }
   ],
   "source": [
    "post_pre['summary'] = post_pre['summary'].apply(lambda x: 'sostok ' + x + ' eostok')\n",
    "post_pre.to_csv('../data/ed_cleaned_data.csv')\n",
    "print(post_pre)"
   ]
  },
  {
   "cell_type": "code",
   "execution_count": 13,
   "metadata": {},
   "outputs": [],
   "source": [
    "post_pre = pd.read_csv('../data/ed_cleaned_data.csv')\n",
    "post_pre = post_pre.loc[:, ~post_pre.columns.str.contains('^Unnamed')]\n",
    "post_pre = post_pre.fillna(\"\")\n",
    "\n",
    "x_tr, x_val, y_tr, y_val = train_test_split(\n",
    "    np.array(post_pre['text']),\n",
    "    np.array(post_pre['summary']),\n",
    "    test_size=0.1,\n",
    "    shuffle=False\n",
    ")"
   ]
  },
  {
   "cell_type": "code",
   "execution_count": 14,
   "metadata": {},
   "outputs": [
    {
     "name": "stdout",
     "output_type": "stream",
     "text": [
      "% of rare words in vocabulary:  45.7757871354066\n",
      "% of rare words in vocabulary:  48.27797149324035\n",
      "44916\n",
      "16911\n"
     ]
    }
   ],
   "source": [
    "art_tokenizer, x_tr, x_val = utils.build_tokenizer(x_tr, x_val, max_text_len)\n",
    "head_tokenizer, y_tr, y_val = utils.build_tokenizer(y_tr, y_val, max_summary_len)\n",
    "\n",
    "# Size of vocabulary (+1 for padding token)\n",
    "art_voc = art_tokenizer.num_words + 1\n",
    "head_voc = head_tokenizer.num_words + 1\n",
    "print(art_voc)\n",
    "print(head_voc)"
   ]
  },
  {
   "cell_type": "code",
   "execution_count": 15,
   "metadata": {},
   "outputs": [],
   "source": [
    "def remove_empty(x_data, y_data):\n",
    "    # Remove empty Summaries, .i.e, which only have 'START' and 'END' tokens\n",
    "    ind = []\n",
    "\n",
    "    for i in range(len(y_data)):\n",
    "        cnt = 0\n",
    "        for j in y_data[i]:\n",
    "            if j != 0:\n",
    "                cnt = cnt + 1\n",
    "        if cnt == 2:\n",
    "            ind.append(i)\n",
    "\n",
    "    y_data = np.delete(y_tr, ind, axis=0)\n",
    "    x_data = np.delete(x_tr, ind, axis=0)\n",
    "    return x_data, y_data"
   ]
  },
  {
   "cell_type": "code",
   "execution_count": 16,
   "metadata": {},
   "outputs": [],
   "source": [
    "x_tr, y_tr = remove_empty(x_tr, y_tr)\n",
    "x_val, y_val = remove_empty(x_val, y_val)\n",
    "assert(len(x_tr) == len(y_tr))\n",
    "assert(len(x_val) == len(y_val))"
   ]
  },
  {
   "cell_type": "code",
   "execution_count": 17,
   "metadata": {},
   "outputs": [
    {
     "name": "stdout",
     "output_type": "stream",
     "text": [
      "WARNING:tensorflow:Layer lstm will not use cuDNN kernels since it doesn't meet the criteria. It will use a generic GPU kernel as fallback when running on GPU.\n",
      "WARNING:tensorflow:Layer lstm_1 will not use cuDNN kernels since it doesn't meet the criteria. It will use a generic GPU kernel as fallback when running on GPU.\n",
      "WARNING:tensorflow:Layer lstm_2 will not use cuDNN kernels since it doesn't meet the criteria. It will use a generic GPU kernel as fallback when running on GPU.\n",
      "WARNING:tensorflow:Layer lstm_3 will not use cuDNN kernels since it doesn't meet the criteria. It will use a generic GPU kernel as fallback when running on GPU.\n",
      "Model: \"model\"\n",
      "__________________________________________________________________________________________________\n",
      " Layer (type)                   Output Shape         Param #     Connected to                     \n",
      "==================================================================================================\n",
      " input_1 (InputLayer)           [(None, 100)]        0           []                               \n",
      "                                                                                                  \n",
      " embedding (Embedding)          (None, 100, 200)     8983200     ['input_1[0][0]']                \n",
      "                                                                                                  \n",
      " lstm (LSTM)                    [(None, 100, 300),   601200      ['embedding[0][0]']              \n",
      "                                 (None, 300),                                                     \n",
      "                                 (None, 300)]                                                     \n",
      "                                                                                                  \n",
      " input_2 (InputLayer)           [(None, None)]       0           []                               \n",
      "                                                                                                  \n",
      " lstm_1 (LSTM)                  [(None, 100, 300),   721200      ['lstm[0][0]']                   \n",
      "                                 (None, 300),                                                     \n",
      "                                 (None, 300)]                                                     \n",
      "                                                                                                  \n",
      " embedding_1 (Embedding)        (None, None, 200)    3382200     ['input_2[0][0]']                \n",
      "                                                                                                  \n",
      " lstm_2 (LSTM)                  [(None, 100, 300),   721200      ['lstm_1[0][0]']                 \n",
      "                                 (None, 300),                                                     \n",
      "                                 (None, 300)]                                                     \n",
      "                                                                                                  \n",
      " lstm_3 (LSTM)                  [(None, None, 300),  601200      ['embedding_1[0][0]',            \n",
      "                                 (None, 300),                     'lstm_2[0][1]',                 \n",
      "                                 (None, 300)]                     'lstm_2[0][2]']                 \n",
      "                                                                                                  \n",
      " time_distributed (TimeDistribu  (None, None, 16911)  5090211    ['lstm_3[0][0]']                 \n",
      " ted)                                                                                             \n",
      "                                                                                                  \n",
      "==================================================================================================\n",
      "Total params: 20,100,411\n",
      "Trainable params: 20,100,411\n",
      "Non-trainable params: 0\n",
      "__________________________________________________________________________________________________\n"
     ]
    }
   ],
   "source": [
    "latent_dim = 300\n",
    "embedding_dim=200\n",
    "\n",
    "# Encoder\n",
    "encoder_inputs = Input(shape=(max_text_len,))\n",
    "\n",
    "#embedding layer\n",
    "enc_emb =  Embedding(art_voc, embedding_dim,trainable=True)(encoder_inputs)\n",
    "\n",
    "#encoder lstm 1\n",
    "encoder_lstm1 = LSTM(latent_dim,return_sequences=True,return_state=True,dropout=0.4,recurrent_dropout=0.4)\n",
    "encoder_output1, state_h1, state_c1 = encoder_lstm1(enc_emb)\n",
    "\n",
    "#encoder lstm 2\n",
    "encoder_lstm2 = LSTM(latent_dim,return_sequences=True,return_state=True,dropout=0.4,recurrent_dropout=0.4)\n",
    "encoder_output2, state_h2, state_c2 = encoder_lstm2(encoder_output1)\n",
    "\n",
    "#encoder lstm 3\n",
    "encoder_lstm3=LSTM(latent_dim, return_state=True, return_sequences=True,dropout=0.4,recurrent_dropout=0.4)\n",
    "encoder_outputs, state_h, state_c= encoder_lstm3(encoder_output2)\n",
    "\n",
    "# Set up the decoder, using `encoder_states` as initial state.\n",
    "decoder_inputs = Input(shape=(None,))\n",
    "\n",
    "#embedding layer\n",
    "dec_emb_layer = Embedding(head_voc, embedding_dim,trainable=True)\n",
    "dec_emb = dec_emb_layer(decoder_inputs)\n",
    "\n",
    "decoder_lstm = LSTM(latent_dim, return_sequences=True, return_state=True,dropout=0.4,recurrent_dropout=0.2)\n",
    "decoder_outputs,decoder_fwd_state, decoder_back_state = decoder_lstm(dec_emb,initial_state=[state_h, state_c])\n",
    "\n",
    "#dense layer\n",
    "decoder_dense =  TimeDistributed(Dense(head_voc, activation='softmax'))\n",
    "decoder_outputs = decoder_dense(decoder_outputs)\n",
    "\n",
    "# Define the model \n",
    "model = Model([encoder_inputs, decoder_inputs], decoder_outputs)\n",
    "\n",
    "model.summary()\n"
   ]
  },
  {
   "cell_type": "code",
   "execution_count": 18,
   "metadata": {},
   "outputs": [],
   "source": [
    "model.compile(optimizer='rmsprop', loss='sparse_categorical_crossentropy')\n",
    "es = EarlyStopping(monitor='val_loss', mode='min', verbose=1, patience=2)"
   ]
  },
  {
   "cell_type": "code",
   "execution_count": 19,
   "metadata": {},
   "outputs": [
    {
     "name": "stdout",
     "output_type": "stream",
     "text": [
      "Epoch 1/8\n",
      "603/603 [==============================] - 1016s 2s/step - loss: 5.2516 - val_loss: 4.9295\n",
      "Epoch 2/8\n",
      "603/603 [==============================] - 980s 2s/step - loss: 4.9128 - val_loss: 4.7690\n",
      "Epoch 3/8\n",
      "603/603 [==============================] - 945s 2s/step - loss: 4.7598 - val_loss: 4.6057\n",
      "Epoch 4/8\n",
      "603/603 [==============================] - 946s 2s/step - loss: 4.6173 - val_loss: 4.4655\n",
      "Epoch 5/8\n",
      "603/603 [==============================] - 938s 2s/step - loss: 4.5068 - val_loss: 4.3568\n",
      "Epoch 6/8\n",
      "603/603 [==============================] - 882s 1s/step - loss: 4.4117 - val_loss: 4.2704\n",
      "Epoch 7/8\n",
      "603/603 [==============================] - 887s 1s/step - loss: 4.3240 - val_loss: 4.1629\n",
      "Epoch 8/8\n",
      "603/603 [==============================] - 883s 1s/step - loss: 4.2519 - val_loss: 4.0792\n"
     ]
    }
   ],
   "source": [
    "history = model.fit(\n",
    "    [x_tr, y_tr[:, :-1]],\n",
    "    y_tr.reshape(y_tr.shape[0], y_tr.shape[1], 1)[:, 1:],\n",
    "    epochs=8,\n",
    "    callbacks=[es],\n",
    "    batch_size=64,\n",
    "    validation_data=([x_val, y_val[:, :-1]],\n",
    "                     y_val.reshape(y_val.shape[0], y_val.shape[1], 1)[:, 1:]),\n",
    "    )"
   ]
  },
  {
   "cell_type": "code",
   "execution_count": 20,
   "metadata": {},
   "outputs": [
    {
     "data": {
      "image/png": "[encoded data removed]",
      "text/plain": [
       "<Figure size 640x480 with 1 Axes>"
      ]
     },
     "metadata": {},
     "output_type": "display_data"
    }
   ],
   "source": [
    "plt.plot(history.history['loss'], label='train')\n",
    "plt.plot(history.history['val_loss'], label='test')\n",
    "plt.legend()\n",
    "plt.show()"
   ]
  },
  {
   "cell_type": "code",
   "execution_count": 21,
   "metadata": {},
   "outputs": [],
   "source": [
    "reverse_target_word_index = head_tokenizer.index_word\n",
    "reverse_source_word_index = art_tokenizer.index_word\n",
    "target_word_index = head_tokenizer.word_index"
   ]
  },
  {
   "cell_type": "code",
   "execution_count": 22,
   "metadata": {},
   "outputs": [
    {
     "name": "stdout",
     "output_type": "stream",
     "text": [
      "WARNING:tensorflow:Compiled the loaded model, but the compiled metrics have yet to be built. `model.compile_metrics` will be empty until you train or evaluate the model.\n",
      "WARNING:tensorflow:Compiled the loaded model, but the compiled metrics have yet to be built. `model.compile_metrics` will be empty until you train or evaluate the model.\n"
     ]
    }
   ],
   "source": [
    "# Inference Models\n",
    "\n",
    "# Encode the input sequence to get the feature vector\n",
    "encoder_model = Model(inputs=encoder_inputs, outputs=[encoder_outputs,\n",
    "                      state_h, state_c])\n",
    "\n",
    "# Decoder setup\n",
    "\n",
    "# Below tensors will hold the states of the previous time step\n",
    "decoder_state_input_h = Input(shape=(latent_dim, ))\n",
    "decoder_state_input_c = Input(shape=(latent_dim, ))\n",
    "decoder_hidden_state_input = Input(shape=(max_text_len, latent_dim))\n",
    "\n",
    "# Get the embeddings of the decoder sequence\n",
    "dec_emb2 = dec_emb_layer(decoder_inputs)\n",
    "\n",
    "# To predict the next word in the sequence, set the initial states to the states from the previous time step\n",
    "(decoder_outputs2, state_h2, state_c2) = decoder_lstm(dec_emb2,\n",
    "        initial_state=[decoder_state_input_h, decoder_state_input_c])\n",
    "\n",
    "# A dense softmax layer to generate prob dist. over the target vocabulary\n",
    "decoder_outputs2 = decoder_dense(decoder_outputs2)\n",
    "\n",
    "# Final decoder model\n",
    "decoder_model = Model([decoder_inputs] + [decoder_hidden_state_input,\n",
    "                      decoder_state_input_h, decoder_state_input_c],\n",
    "                      [decoder_outputs2] + [state_h2, state_c2])\n",
    "decoder_model.save(\"../trained_models/decoder_model.h5\")\n",
    "encoder_model.save('../trained_models/encoder_model.h5')"
   ]
  },
  {
   "cell_type": "code",
   "execution_count": null,
   "metadata": {},
   "outputs": [],
   "source": []
  }
 ],
 "metadata": {
  "kernelspec": {
   "display_name": "tf",
   "language": "python",
   "name": "python3"
  },
  "language_info": {
   "codemirror_mode": {
    "name": "ipython",
    "version": 3
   },
   "file_extension": ".py",
   "mimetype": "text/x-python",
   "name": "python",
   "nbconvert_exporter": "python",
   "pygments_lexer": "ipython3",
   "version": "3.9.18"
  }
 },
 "nbformat": 4,
 "nbformat_minor": 2
}
