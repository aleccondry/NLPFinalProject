{
 "cells": [
  {
   "cell_type": "code",
   "execution_count": 3,
   "metadata": {},
   "outputs": [],
   "source": [
    "from keras.models import Model\n",
    "from keras.layers import Input, LSTM, Dense, Embedding, RepeatVector, concatenate"
   ]
  },
  {
   "cell_type": "code",
   "execution_count": 4,
   "metadata": {},
   "outputs": [],
   "source": [
    "#https://machinelearningmastery.com/encoder-decoder-models-text-summarization-keras/\n",
    "\n",
    "#I would choose Alternate 3 from this link\n",
    "#That I belive is how we should create our encoder deccoder model\n",
    "\n",
    "#NOTE: Example code here\n",
    "vocab_size = 171898\n",
    "src_txt_length = 183517\n",
    "sum_txt_length = 183517\n",
    "# article input model\n",
    "inputs1 = Input(shape=(src_txt_length,))\n",
    "article1 = Embedding(vocab_size, 128)(inputs1)\n",
    "article2 = LSTM(128)(article1)\n",
    "article3 = RepeatVector(sum_txt_length)(article2)\n",
    "# summary input model\n",
    "inputs2 = Input(shape=(sum_txt_length,))\n",
    "summ1 = Embedding(vocab_size, 128)(inputs2)\n",
    "# decoder model\n",
    "decoder1 = concatenate([article3, summ1])\n",
    "decoder2 = LSTM(128)(decoder1)\n",
    "outputs = Dense(vocab_size, activation='softmax')(decoder2)\n",
    "# tie it together [article, summary] [word]\n",
    "model = Model(inputs=[inputs1, inputs2], outputs=outputs)\n",
    "model.compile(loss='categorical_crossentropy', optimizer='adam')"
   ]
  },
  {
   "cell_type": "code",
   "execution_count": null,
   "metadata": {},
   "outputs": [],
   "source": []
  }
 ],
 "metadata": {
  "kernelspec": {
   "display_name": "Python 3",
   "language": "python",
   "name": "python3"
  },
  "language_info": {
   "codemirror_mode": {
    "name": "ipython",
    "version": 3
   },
   "file_extension": ".py",
   "mimetype": "text/x-python",
   "name": "python",
   "nbconvert_exporter": "python",
   "pygments_lexer": "ipython3",
   "version": "3.10.11"
  }
 },
 "nbformat": 4,
 "nbformat_minor": 2
}
