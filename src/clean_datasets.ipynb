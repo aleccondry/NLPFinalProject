{
 "cells": [
  {
   "cell_type": "code",
   "execution_count": 5,
   "metadata": {},
   "outputs": [],
   "source": [
    "import utils\n",
    "import os\n",
    "import pandas as pd\n",
    "import random"
   ]
  },
  {
   "cell_type": "code",
   "execution_count": 6,
   "metadata": {},
   "outputs": [],
   "source": [
    "# Constants\n",
    "TLDR = ' TL;DR '\n",
    "MAX_LEN = 512\n",
    "NUM_ELEMENTS = 50000\n",
    "BATCHES = 2\n",
    "SAVE_MODEL_PATH = '../trained_models/gpt2-summarization-gpu'\n",
    "DATA_PATH = \"../data/cleaned_data/\""
   ]
  },
  {
   "cell_type": "code",
   "execution_count": 7,
   "metadata": {},
   "outputs": [],
   "source": [
    "if not os.path.exists(DATA_PATH):\n",
    "    utils.clean_data()\n",
    "all_articles_dict = utils.load_article_data(path=DATA_PATH)\n",
    "del all_articles_dict['clean_Articles.csv']\n",
    "del all_articles_dict['clean_CNN_Articels_clean.csv']\n",
    "all_articles_df = pd.concat([df for df in all_articles_dict.values()])"
   ]
  },
  {
   "cell_type": "code",
   "execution_count": 8,
   "metadata": {},
   "outputs": [
    {
     "name": "stdout",
     "output_type": "stream",
     "text": [
      "Example: WASHINGTON  —   Congressional Republicans have a new fear when it comes to their    health care lawsuit against the Obama administration: They might win. The incoming Trump administration could choose to no longer defend the executive branch against the suit, which challenges the administration’s authority to spend billions of dollars on health insurance subsidies for   and   Americans, handing House Republicans a big victory on    issues. Bu TL;DR House Republicans Fret About Winning Their Health Care Suit\n"
     ]
    }
   ],
   "source": [
    "def strip_nonalnum(word):\n",
    "    if not word:\n",
    "        return word  # nothing to strip\n",
    "    for start, c in enumerate(word):\n",
    "        if c.isalnum():\n",
    "            break\n",
    "    for end, c in enumerate(word[::-1]):\n",
    "        if c.isalnum():\n",
    "            break\n",
    "    return word[start:len(word) - end]\n",
    "\n",
    "def clean_datapoint(datapoint):\n",
    "    \"\"\"\n",
    "    Given a line from the cleaned data. Perform transformations to get a resulting string of\n",
    "    the format: 'article TL;DR headline' without any starting or trailing non-alphanumeric characters.\n",
    "    Also remove ending titles for specific newspapers.\n",
    "    \"\"\"\n",
    "    res = strip_nonalnum(datapoint[1]) + ' TL;DR ' + strip_nonalnum(datapoint[0]).replace(' - The New York Times', '').replace(' - Breitbart', '')\n",
    "    return res\n",
    "\n",
    "def pad_and_truncate_data(dataset):\n",
    "    \"\"\"\n",
    "    Format data to always contain the TL;DR and the entire headline. Truncate the article such that\n",
    "    the whole string becomes MAX_LEN long.\n",
    "    \"\"\"\n",
    "    ARTICLE_LEN = MAX_LEN - len(TLDR)\n",
    "    result = []\n",
    "    for d in dataset:\n",
    "        try:\n",
    "            article, headline = d.split(' TL;DR ')\n",
    "            result.append(article[0:ARTICLE_LEN - len(headline)] + TLDR + headline)\n",
    "        except:\n",
    "            continue\n",
    "    return result   \n",
    "\n",
    "\n",
    "# Clean each element of data and format by: article TL;DR headline\n",
    "all_articles = all_articles_df.values.tolist()\n",
    "all_articles = [clean_datapoint(x) for x in all_articles if isinstance(x[0], str) and isinstance(x[1], str)][:NUM_ELEMENTS]\n",
    "\n",
    "# Pad and truncate data to specific length\n",
    "all_articles = pad_and_truncate_data(all_articles)\n",
    "print(f'Example: {all_articles[0]}')"
   ]
  },
  {
   "cell_type": "code",
   "execution_count": null,
   "metadata": {},
   "outputs": [],
   "source": [
    "# Write data to files to be loaded into a dataset\n",
    "random.seed(11)\n",
    "random.shuffle(all_articles)\n",
    "TRAIN_SPLIT = 0.9\n",
    "END_IDX = int(len(all_articles) * TRAIN_SPLIT)\n",
    "with open(\"../data/train_data.txt\", \"w\", encoding='utf-8') as txt_file:\n",
    "    for line in all_articles[0:END_IDX]:\n",
    "        txt_file.write(line + \"\\n\") # works with any number of elements in a line\n",
    "with open(\"../data/test_data.txt\", \"w\", encoding='utf-8') as txt_file:\n",
    "    for line in all_articles[END_IDX:]:\n",
    "        txt_file.write(line + \"\\n\") # works with any number of elements in a line"
   ]
  }
 ],
 "metadata": {
  "kernelspec": {
   "display_name": "Python 3",
   "language": "python",
   "name": "python3"
  },
  "language_info": {
   "codemirror_mode": {
    "name": "ipython",
    "version": 3
   },
   "file_extension": ".py",
   "mimetype": "text/x-python",
   "name": "python",
   "nbconvert_exporter": "python",
   "pygments_lexer": "ipython3",
   "version": "3.10.11"
  }
 },
 "nbformat": 4,
 "nbformat_minor": 2
}
