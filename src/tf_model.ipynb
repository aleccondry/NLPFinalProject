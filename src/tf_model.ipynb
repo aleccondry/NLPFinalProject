{
 "cells": [
  {
   "cell_type": "code",
   "execution_count": 1,
   "metadata": {},
   "outputs": [
    {
     "name": "stderr",
     "output_type": "stream",
     "text": [
      "c:\\Users\\alecc\\miniconda3\\envs\\tf\\lib\\site-packages\\tqdm\\auto.py:21: TqdmWarning: IProgress not found. Please update jupyter and ipywidgets. See https://ipywidgets.readthedocs.io/en/stable/user_install.html\n",
      "  from .autonotebook import tqdm as notebook_tqdm\n"
     ]
    }
   ],
   "source": [
    "# required import statements\n",
    "from transformers import AutoTokenizer, AdamWeightDecay, TFAutoModelForCausalLM\n",
    "import tensorflow as tf\n",
    "from tensorflow.python.client import device_lib\n",
    "import utils\n",
    "import os\n",
    "import pandas as pd\n",
    "from datasets import load_dataset\n",
    "import random"
   ]
  },
  {
   "cell_type": "code",
   "execution_count": 2,
   "metadata": {},
   "outputs": [
    {
     "name": "stdout",
     "output_type": "stream",
     "text": [
      "2.10.0\n",
      "Num GPUs Available:  1\n",
      "GPUs: [PhysicalDevice(name='/physical_device:GPU:0', device_type='GPU')]\n"
     ]
    }
   ],
   "source": [
    "# Check for GPU Compatibility\n",
    "print(tf.__version__)\n",
    "print(\"Num GPUs Available: \", len(tf.config.list_physical_devices('GPU')))\n",
    "print(f'GPUs: {tf.config.list_physical_devices(\"GPU\")}')\n",
    "tf.debugging.set_log_device_placement(False)\n",
    "GPU_ENABLED = True if len(tf.config.list_physical_devices('GPU')) > 0 else False"
   ]
  },
  {
   "cell_type": "code",
   "execution_count": 3,
   "metadata": {},
   "outputs": [
    {
     "name": "stderr",
     "output_type": "stream",
     "text": [
      "All PyTorch model weights were used when initializing TFGPT2LMHeadModel.\n",
      "\n",
      "All the weights of TFGPT2LMHeadModel were initialized from the PyTorch model.\n",
      "If your task is similar to the task the model of the checkpoint was trained on, you can already use TFGPT2LMHeadModel for predictions without further training.\n"
     ]
    }
   ],
   "source": [
    "# Load pretrained tokenizer and model\n",
    "tokenizer = AutoTokenizer.from_pretrained(\"gpt2\")\n",
    "model = TFAutoModelForCausalLM.from_pretrained('gpt2')\n",
    "\n",
    "# Constants\n",
    "TLDR = ' TL;DR '\n",
    "MAX_LEN = 512\n",
    "NUM_ELEMENTS = 50000\n",
    "BATCHES = 2\n",
    "SAVE_MODEL_PATH = '../trained_models/gpt2-summarization-gpu'\n",
    "DATA_PATH = \"../data/cleaned_data/\""
   ]
  },
  {
   "cell_type": "code",
   "execution_count": 5,
   "metadata": {},
   "outputs": [],
   "source": [
    "# prepare and normalize data from csv files\n",
    "if not os.path.exists(DATA_PATH):\n",
    "    utils.clean_data()\n",
    "all_articles_dict = utils.load_article_data(path=DATA_PATH)\n",
    "del all_articles_dict['clean_Articles.csv']\n",
    "del all_articles_dict['clean_CNN_Articels_clean.csv']\n",
    "all_articles_df = pd.concat([df for df in all_articles_dict.values()])"
   ]
  },
  {
   "cell_type": "code",
   "execution_count": 5,
   "metadata": {},
   "outputs": [
    {
     "name": "stdout",
     "output_type": "stream",
     "text": [
      "Ready to go!\n"
     ]
    }
   ],
   "source": [
    "# Check if files exist, if not run clean_datasets.ipynb\n",
    "if not \"test_data.txt\" in os.listdir('../data/') or not \"train_data.txt\" in os.listdir('../data/'):\n",
    "    print(\"Run clean_datasets.ipynb before continuing\")\n",
    "else:\n",
    "    print(\"Ready to go!\")"
   ]
  },
  {
   "cell_type": "code",
   "execution_count": 4,
   "metadata": {},
   "outputs": [],
   "source": [
    "# Load dataset from files\n",
    "datasets = load_dataset(\"text\", data_files={\"train\": '../data/train_data.txt', \"validation\": '../data/test_data.txt'})"
   ]
  },
  {
   "cell_type": "code",
   "execution_count": 10,
   "metadata": {},
   "outputs": [],
   "source": [
    "class TokenizerWrapper:\n",
    "    \"\"\"\n",
    "    This class is used to wrap the tokenizer and provide a tokenize_function for the inputs.\n",
    "    \"\"\"\n",
    "    def __init__(self, tokenizer, max_len):\n",
    "        self.tokenizer = tokenizer\n",
    "        self.tokenizer.pad_token = self.tokenizer.eos_token\n",
    "        self.max_len = max_len\n",
    "    \n",
    "    def tokenize_function(self, examples):\n",
    "        \"\"\"\n",
    "        The function that is used to tokenize the inputs using the supplied class member variables.\n",
    "        \"\"\"\n",
    "        return self.tokenizer(examples[\"text\"],\n",
    "                              padding='max_length',\n",
    "                              truncation=True,\n",
    "                              max_length=self.max_len // 4)\n",
    "\n",
    "tokenizer_wrapper = TokenizerWrapper(tokenizer, MAX_LEN)"
   ]
  },
  {
   "cell_type": "code",
   "execution_count": 11,
   "metadata": {},
   "outputs": [
    {
     "name": "stderr",
     "output_type": "stream",
     "text": [
      "Map (num_proc=4):   0%|          | 0/44999 [00:00<?, ? examples/s]"
     ]
    },
    {
     "name": "stderr",
     "output_type": "stream",
     "text": [
      "Map (num_proc=4): 100%|██████████| 44999/44999 [00:08<00:00, 5554.14 examples/s] \n",
      "Map (num_proc=4): 100%|██████████| 5000/5000 [00:03<00:00, 1308.54 examples/s]\n"
     ]
    }
   ],
   "source": [
    "# Tokenize data\n",
    "tokenized_datasets = datasets.map(\n",
    "    tokenizer_wrapper.tokenize_function, batched=True, num_proc=4, remove_columns=[\"text\"]\n",
    ")"
   ]
  },
  {
   "cell_type": "code",
   "execution_count": 12,
   "metadata": {},
   "outputs": [
    {
     "name": "stdout",
     "output_type": "stream",
     "text": [
      "{'input_ids': [38328, 360, 1536, 265, 286, 262, 968, 1971, 3782, 468, 6848, 326, 4390, 3615, 10429, 5073, 2605, 3804, 510, 262, 3663, 284, 3151, 503, 284, 564, 250, 2, 12295, 6170, 447, 251, 12471, 287, 607, 9831, 4046, 11, 6011, 606, 564, 250, 22366, 447, 251, 284, 920, 501, 606, 284, 5078, 13, 685, 35, 1536, 5562, 6797, 287, 465, 3502, 5721, 357, 14986, 12476, 2599, 220, 3363, 11, 262, 9831, 447, 247, 82, 905, 25428, 373, 47305, 555, 4035, 11, 20953, 11, 10768, 220, 851, 220, 220, 475, 5073, 2605, 447, 247, 82, 5928, 8666, 318, 407, 13, 1375, 447, 247, 82, 1057, 35073, 24811, 26, 7707, 360, 1536, 265, 25, 5073, 3242, 1068, 10528, 284, 1303, 12295, 6170, 17897, 50256, 50256, 50256, 50256, 50256, 50256, 50256, 50256], 'attention_mask': [1, 1, 1, 1, 1, 1, 1, 1, 1, 1, 1, 1, 1, 1, 1, 1, 1, 1, 1, 1, 1, 1, 1, 1, 1, 1, 1, 1, 1, 1, 1, 1, 1, 1, 1, 1, 1, 1, 1, 1, 1, 1, 1, 1, 1, 1, 1, 1, 1, 1, 1, 1, 1, 1, 1, 1, 1, 1, 1, 1, 1, 1, 1, 1, 1, 1, 1, 1, 1, 1, 1, 1, 1, 1, 1, 1, 1, 1, 1, 1, 1, 1, 1, 1, 1, 1, 1, 1, 1, 1, 1, 1, 1, 1, 1, 1, 1, 1, 1, 1, 1, 1, 1, 1, 1, 1, 1, 1, 1, 1, 1, 1, 1, 1, 1, 1, 1, 1, 1, 1, 0, 0, 0, 0, 0, 0, 0, 0]}\n",
      "Ross Douthat of the New York Times has admitted that Democratic Party nominee Hillary Clinton passed up the opportunity to reach out to “#NeverTrump” conservatives in her convention speech, offering them “nothing” to entice them to switch. [Douththat writes in his Sunday column (original emphasis):  Yes, the convention’s showmanship was strikingly unifying, bipartisan, moderate  —   but Hillary Clinton’s domestic agenda is not. She’s runnin TL;DR Douthat: Hillary Offered Nothing to #NeverTrump Conservatives<|endoftext|><|endoftext|><|endoftext|><|endoftext|><|endoftext|><|endoftext|><|endoftext|><|endoftext|>\n",
      "616\n"
     ]
    }
   ],
   "source": [
    "# Example outputs\n",
    "print(tokenized_datasets[\"train\"][1])\n",
    "print(tokenizer.decode(tokenized_datasets[\"train\"][1][\"input_ids\"]))\n",
    "print(len(tokenizer.decode(tokenized_datasets[\"train\"][1][\"input_ids\"])))"
   ]
  },
  {
   "cell_type": "code",
   "execution_count": 13,
   "metadata": {},
   "outputs": [
    {
     "name": "stderr",
     "output_type": "stream",
     "text": [
      "Map (num_proc=4):   0%|          | 0/44999 [00:00<?, ? examples/s]"
     ]
    },
    {
     "name": "stderr",
     "output_type": "stream",
     "text": [
      "Map (num_proc=4): 100%|██████████| 44999/44999 [00:03<00:00, 11703.44 examples/s]\n",
      "Map (num_proc=4): 100%|██████████| 5000/5000 [00:02<00:00, 1827.93 examples/s]\n"
     ]
    }
   ],
   "source": [
    "# Add labels to tokenized data\n",
    "def add_labels(examples):\n",
    "    examples['labels'] = examples['input_ids'].copy()\n",
    "    return examples\n",
    "\n",
    "lm_datasets = tokenized_datasets.map(\n",
    "    add_labels,\n",
    "    batched=True,\n",
    "    batch_size=1000,\n",
    "    num_proc=4,\n",
    ")"
   ]
  },
  {
   "cell_type": "code",
   "execution_count": 14,
   "metadata": {},
   "outputs": [],
   "source": [
    "# Prepare training and validation datasets\n",
    "train_set = model.prepare_tf_dataset(\n",
    "    lm_datasets[\"train\"],\n",
    "    shuffle=True,\n",
    "    batch_size=BATCHES,\n",
    ")\n",
    "\n",
    "validation_set = model.prepare_tf_dataset(\n",
    "    lm_datasets[\"validation\"],\n",
    "    shuffle=False,\n",
    "    batch_size=BATCHES,\n",
    ")"
   ]
  },
  {
   "cell_type": "code",
   "execution_count": 15,
   "metadata": {},
   "outputs": [
    {
     "name": "stdout",
     "output_type": "stream",
     "text": [
      "Epoch 1/2\n",
      "22499/22499 [==============================] - 2192s 97ms/step - loss: 2.6236 - val_loss: 2.4633\n",
      "Epoch 2/2\n",
      "22499/22499 [==============================] - 2212s 98ms/step - loss: 2.4449 - val_loss: 2.4374\n",
      "Saving model at ../trained_models/gpt2-summarization-gpu\n"
     ]
    }
   ],
   "source": [
    "# Compile and train model\n",
    "if GPU_ENABLED:\n",
    "    with tf.device('/GPU:0'):\n",
    "        optimizer = AdamWeightDecay(learning_rate=2e-5, weight_decay_rate=0.01)\n",
    "        model.compile(optimizer=optimizer)\n",
    "        model.fit(\n",
    "            train_set, \n",
    "            validation_data=validation_set, \n",
    "            epochs=2,  \n",
    "            verbose=True)\n",
    "else:\n",
    "    optimizer = AdamWeightDecay(learning_rate=2e-5, weight_decay_rate=0.01)\n",
    "    model.compile(optimizer=optimizer)\n",
    "    model.fit(\n",
    "        train_set, \n",
    "        validation_data=validation_set, \n",
    "        epochs=2,  \n",
    "        verbose=True)\n",
    "\n",
    "# Save trained model\n",
    "print(f\"Saving model at {SAVE_MODEL_PATH}\")\n",
    "model.save_pretrained(SAVE_MODEL_PATH)"
   ]
  },
  {
   "cell_type": "code",
   "execution_count": 16,
   "metadata": {},
   "outputs": [
    {
     "name": "stderr",
     "output_type": "stream",
     "text": [
      "All model checkpoint layers were used when initializing TFGPT2LMHeadModel.\n",
      "\n",
      "All the layers of TFGPT2LMHeadModel were initialized from the model checkpoint at ../trained_models/gpt2-summarization/.\n",
      "If your task is similar to the task the model of the checkpoint was trained on, you can already use TFGPT2LMHeadModel for predictions without further training.\n"
     ]
    }
   ],
   "source": [
    "# save trained model\n",
    "model.save_pretrained('../trained_models/gpt2-summarization')\n",
    "# Load trained model\n",
    "model = TFAutoModelForCausalLM.from_pretrained('../trained_models/gpt2-summarization/')"
   ]
  }
 ],
 "metadata": {
  "kernelspec": {
   "display_name": "Python 3",
   "language": "python",
   "name": "python3"
  },
  "language_info": {
   "codemirror_mode": {
    "name": "ipython",
    "version": 3
   },
   "file_extension": ".py",
   "mimetype": "text/x-python",
   "name": "python",
   "nbconvert_exporter": "python",
   "pygments_lexer": "ipython3",
   "version": "3.9.18"
  }
 },
 "nbformat": 4,
 "nbformat_minor": 2
}
