{
 "cells": [
  {
   "cell_type": "code",
   "execution_count": 2,
   "metadata": {},
   "outputs": [
    {
     "name": "stderr",
     "output_type": "stream",
     "text": [
      "c:\\Users\\alecc\\miniconda3\\envs\\tf\\lib\\site-packages\\tqdm\\auto.py:21: TqdmWarning: IProgress not found. Please update jupyter and ipywidgets. See https://ipywidgets.readthedocs.io/en/stable/user_install.html\n",
      "  from .autonotebook import tqdm as notebook_tqdm\n"
     ]
    }
   ],
   "source": [
    "# required import statements\n",
    "from transformers import AutoTokenizer, AdamWeightDecay, TFAutoModelForCausalLM\n",
    "import tensorflow as tf\n",
    "from tensorflow.python.client import device_lib\n",
    "import utils\n",
    "import os\n",
    "import pandas as pd\n",
    "from datasets import load_dataset\n",
    "import random"
   ]
  },
  {
   "cell_type": "code",
   "execution_count": 3,
   "metadata": {},
   "outputs": [
    {
     "name": "stdout",
     "output_type": "stream",
     "text": [
      "2.10.0\n",
      "Num GPUs Available:  1\n",
      "GPUs: [PhysicalDevice(name='/physical_device:GPU:0', device_type='GPU')]\n"
     ]
    }
   ],
   "source": [
    "# Check for GPU Compatibility\n",
    "print(tf.__version__)\n",
    "print(\"Num GPUs Available: \", len(tf.config.list_physical_devices('GPU')))\n",
    "print(f'GPUs: {tf.config.list_physical_devices(\"GPU\")}')\n",
    "tf.debugging.set_log_device_placement(False)\n",
    "GPU_ENABLED = True if len(tf.config.list_physical_devices('GPU')) > 0 else False"
   ]
  },
  {
   "cell_type": "code",
   "execution_count": 4,
   "metadata": {},
   "outputs": [
    {
     "name": "stderr",
     "output_type": "stream",
     "text": [
      "All PyTorch model weights were used when initializing TFGPT2LMHeadModel.\n",
      "\n",
      "All the weights of TFGPT2LMHeadModel were initialized from the PyTorch model.\n",
      "If your task is similar to the task the model of the checkpoint was trained on, you can already use TFGPT2LMHeadModel for predictions without further training.\n"
     ]
    }
   ],
   "source": [
    "# Load pretrained tokenizer and model\n",
    "tokenizer = AutoTokenizer.from_pretrained(\"gpt2\")\n",
    "model = TFAutoModelForCausalLM.from_pretrained('gpt2')\n",
    "\n",
    "# Constants\n",
    "TLDR = ' TL;DR '\n",
    "MAX_LEN = 512\n",
    "NUM_ELEMENTS = 50000\n",
    "BATCHES = 2\n",
    "SAVE_MODEL_PATH = '../trained_models/gpt2-summarization-gpu'\n",
    "DATA_PATH = \"../data/cleaned_data/\""
   ]
  },
  {
   "cell_type": "code",
   "execution_count": 5,
   "metadata": {},
   "outputs": [],
   "source": [
    "# prepare and normalize data from csv files\n",
    "if not os.path.exists(DATA_PATH):\n",
    "    utils.clean_data()\n",
    "all_articles_dict = utils.load_article_data(path=DATA_PATH)\n",
    "del all_articles_dict['clean_Articles.csv']\n",
    "del all_articles_dict['clean_CNN_Articels_clean.csv']\n",
    "all_articles_df = pd.concat([df for df in all_articles_dict.values()])"
   ]
  },
  {
   "cell_type": "code",
   "execution_count": 6,
   "metadata": {},
   "outputs": [
    {
     "name": "stdout",
     "output_type": "stream",
     "text": [
      "Example: WASHINGTON  —   Congressional Republicans have a new fear when it comes to their    health care lawsuit against the Obama administration: They might win. The incoming Trump administration could choose to no longer defend the executive branch against the suit, which challenges the administration’s authority to spend billions of dollars on health insurance subsidies for   and   Americans, handing House Republicans a big victory on    issues. Bu TL;DR House Republicans Fret About Winning Their Health Care Suit\n"
     ]
    }
   ],
   "source": [
    "def strip_nonalnum(word):\n",
    "    \"\"\"\n",
    "    Strip non-alphanumeric characters from the start and end of a string.\n",
    "    Returns the stripped string.\n",
    "    \"\"\"\n",
    "    if not word:\n",
    "        return word  # nothing to strip\n",
    "    for start, c in enumerate(word):\n",
    "        if c.isalnum():\n",
    "            break\n",
    "    for end, c in enumerate(word[::-1]):\n",
    "        if c.isalnum():\n",
    "            break\n",
    "    return word[start:len(word) - end]\n",
    "\n",
    "def clean_datapoint(datapoint):\n",
    "    \"\"\"\n",
    "    Given a line from the cleaned data. Perform transformations to get a resulting string of\n",
    "    the format: 'article TL;DR headline' without any starting or trailing non-alphanumeric characters.\n",
    "    Also remove ending titles for specific newspapers.\n",
    "    \"\"\"\n",
    "    res = strip_nonalnum(datapoint[1]) + ' TL;DR ' + strip_nonalnum(datapoint[0]).replace(' - The New York Times', '').replace(' - Breitbart', '')\n",
    "    return res\n",
    "\n",
    "def pad_and_truncate_data(dataset):\n",
    "    \"\"\"\n",
    "    Format data to always contain the TL;DR and the entire headline. Truncate the article such that\n",
    "    the whole string becomes MAX_LEN long.\n",
    "    \"\"\"\n",
    "    ARTICLE_LEN = MAX_LEN - len(TLDR)\n",
    "    result = []\n",
    "    for d in dataset:\n",
    "        try:\n",
    "            article, headline = d.split(' TL;DR ')\n",
    "            result.append(article[0:ARTICLE_LEN - len(headline)] + TLDR + headline)\n",
    "        except:\n",
    "            continue\n",
    "    return result   \n",
    "\n",
    "\n",
    "# Clean each element of data and format by: article TL;DR headline\n",
    "all_articles = all_articles_df.values.tolist()\n",
    "all_articles = [clean_datapoint(x) for x in all_articles if isinstance(x[0], str) and isinstance(x[1], str)][:NUM_ELEMENTS]\n",
    "\n",
    "# Pad and truncate data to specific length\n",
    "all_articles = pad_and_truncate_data(all_articles)\n",
    "print(f'Example: {all_articles[0]}')"
   ]
  },
  {
   "cell_type": "code",
   "execution_count": 7,
   "metadata": {},
   "outputs": [],
   "source": [
    "# Write data to files to be loaded into a dataset\n",
    "random.seed(11)\n",
    "random.shuffle(all_articles)\n",
    "TRAIN_SPLIT = 0.9\n",
    "END_IDX = int(len(all_articles) * TRAIN_SPLIT)\n",
    "with open(\"../data/train_data.txt\", \"w\", encoding='utf-8') as txt_file:\n",
    "    for line in all_articles[0:END_IDX]:\n",
    "        txt_file.write(line + \"\\n\") # works with any number of elements in a line\n",
    "with open(\"../data/test_data.txt\", \"w\", encoding='utf-8') as txt_file:\n",
    "    for line in all_articles[END_IDX:]:\n",
    "        txt_file.write(line + \"\\n\") # works with any number of elements in a line"
   ]
  },
  {
   "cell_type": "code",
   "execution_count": 8,
   "metadata": {},
   "outputs": [
    {
     "name": "stderr",
     "output_type": "stream",
     "text": [
      "Downloading data files: 100%|██████████| 2/2 [00:00<?, ?it/s]\n",
      "Extracting data files: 100%|██████████| 2/2 [00:00<00:00, 94.12it/s]\n",
      "Generating train split: 44999 examples [00:00, 104860.98 examples/s]\n",
      "Generating validation split: 5000 examples [00:00, 134095.86 examples/s]\n"
     ]
    }
   ],
   "source": [
    "# Load dataset from files\n",
    "datasets = load_dataset(\"text\", data_files={\"train\": '../data/train_data.txt', \"validation\": '../data/test_data.txt'})"
   ]
  },
  {
   "cell_type": "code",
   "execution_count": 9,
   "metadata": {},
   "outputs": [
    {
     "name": "stdout",
     "output_type": "stream",
     "text": [
      "{'text': 'Two cultures collided in Canada when a group of recently arrived Syrian refugees were settled in a Vancouver hotel where a yearly furry convention was taking place. [The fifth annual VancouFur convention was taking place at the Executive Airport Plaza hotel when numerous attendees noticed a bus full of migrants pull up outside and start to pour through the entrance.  “They saw people in giant animal costumes. To the children they were just cartoons fr TL;DR Migrants Settled in Hotel Hosting Furry Convention'}\n",
      "44999\n",
      "5000\n"
     ]
    }
   ],
   "source": [
    "# print some data information to check for correctness\n",
    "print(datasets[\"train\"][10])\n",
    "print(len(datasets['train']))\n",
    "print(len(datasets['validation']))"
   ]
  },
  {
   "cell_type": "code",
   "execution_count": 10,
   "metadata": {},
   "outputs": [],
   "source": [
    "class TokenizerWrapper:\n",
    "    \"\"\"\n",
    "    This class is used to wrap the tokenizer and provide a tokenize_function for the inputs.\n",
    "    \"\"\"\n",
    "    def __init__(self, tokenizer, max_len):\n",
    "        self.tokenizer = tokenizer\n",
    "        self.tokenizer.pad_token = self.tokenizer.eos_token\n",
    "        self.max_len = max_len\n",
    "    \n",
    "    def tokenize_function(self, examples):\n",
    "        \"\"\"\n",
    "        The function that is used to tokenize the inputs using the supplied class member variables.\n",
    "        \"\"\"\n",
    "        return self.tokenizer(examples[\"text\"],\n",
    "                              padding='max_length',\n",
    "                              truncation=True,\n",
    "                              max_length=self.max_len // 4)\n",
    "\n",
    "tokenizer_wrapper = TokenizerWrapper(tokenizer, MAX_LEN)"
   ]
  },
  {
   "cell_type": "code",
   "execution_count": 11,
   "metadata": {},
   "outputs": [
    {
     "name": "stderr",
     "output_type": "stream",
     "text": [
      "Map (num_proc=4):   0%|          | 0/44999 [00:00<?, ? examples/s]"
     ]
    },
    {
     "name": "stderr",
     "output_type": "stream",
     "text": [
      "Map (num_proc=4): 100%|██████████| 44999/44999 [00:08<00:00, 5554.14 examples/s] \n",
      "Map (num_proc=4): 100%|██████████| 5000/5000 [00:03<00:00, 1308.54 examples/s]\n"
     ]
    }
   ],
   "source": [
    "# Tokenize data\n",
    "tokenized_datasets = datasets.map(\n",
    "    tokenizer_wrapper.tokenize_function, batched=True, num_proc=4, remove_columns=[\"text\"]\n",
    ")"
   ]
  },
  {
   "cell_type": "code",
   "execution_count": 12,
   "metadata": {},
   "outputs": [
    {
     "name": "stdout",
     "output_type": "stream",
     "text": [
      "{'input_ids': [38328, 360, 1536, 265, 286, 262, 968, 1971, 3782, 468, 6848, 326, 4390, 3615, 10429, 5073, 2605, 3804, 510, 262, 3663, 284, 3151, 503, 284, 564, 250, 2, 12295, 6170, 447, 251, 12471, 287, 607, 9831, 4046, 11, 6011, 606, 564, 250, 22366, 447, 251, 284, 920, 501, 606, 284, 5078, 13, 685, 35, 1536, 5562, 6797, 287, 465, 3502, 5721, 357, 14986, 12476, 2599, 220, 3363, 11, 262, 9831, 447, 247, 82, 905, 25428, 373, 47305, 555, 4035, 11, 20953, 11, 10768, 220, 851, 220, 220, 475, 5073, 2605, 447, 247, 82, 5928, 8666, 318, 407, 13, 1375, 447, 247, 82, 1057, 35073, 24811, 26, 7707, 360, 1536, 265, 25, 5073, 3242, 1068, 10528, 284, 1303, 12295, 6170, 17897, 50256, 50256, 50256, 50256, 50256, 50256, 50256, 50256], 'attention_mask': [1, 1, 1, 1, 1, 1, 1, 1, 1, 1, 1, 1, 1, 1, 1, 1, 1, 1, 1, 1, 1, 1, 1, 1, 1, 1, 1, 1, 1, 1, 1, 1, 1, 1, 1, 1, 1, 1, 1, 1, 1, 1, 1, 1, 1, 1, 1, 1, 1, 1, 1, 1, 1, 1, 1, 1, 1, 1, 1, 1, 1, 1, 1, 1, 1, 1, 1, 1, 1, 1, 1, 1, 1, 1, 1, 1, 1, 1, 1, 1, 1, 1, 1, 1, 1, 1, 1, 1, 1, 1, 1, 1, 1, 1, 1, 1, 1, 1, 1, 1, 1, 1, 1, 1, 1, 1, 1, 1, 1, 1, 1, 1, 1, 1, 1, 1, 1, 1, 1, 1, 0, 0, 0, 0, 0, 0, 0, 0]}\n",
      "Ross Douthat of the New York Times has admitted that Democratic Party nominee Hillary Clinton passed up the opportunity to reach out to “#NeverTrump” conservatives in her convention speech, offering them “nothing” to entice them to switch. [Douththat writes in his Sunday column (original emphasis):  Yes, the convention’s showmanship was strikingly unifying, bipartisan, moderate  —   but Hillary Clinton’s domestic agenda is not. She’s runnin TL;DR Douthat: Hillary Offered Nothing to #NeverTrump Conservatives<|endoftext|><|endoftext|><|endoftext|><|endoftext|><|endoftext|><|endoftext|><|endoftext|><|endoftext|>\n",
      "616\n"
     ]
    }
   ],
   "source": [
    "# Example outputs\n",
    "print(tokenized_datasets[\"train\"][1])\n",
    "print(tokenizer.decode(tokenized_datasets[\"train\"][1][\"input_ids\"]))\n",
    "print(len(tokenizer.decode(tokenized_datasets[\"train\"][1][\"input_ids\"])))"
   ]
  },
  {
   "cell_type": "code",
   "execution_count": 13,
   "metadata": {},
   "outputs": [
    {
     "name": "stderr",
     "output_type": "stream",
     "text": [
      "Map (num_proc=4):   0%|          | 0/44999 [00:00<?, ? examples/s]"
     ]
    },
    {
     "name": "stderr",
     "output_type": "stream",
     "text": [
      "Map (num_proc=4): 100%|██████████| 44999/44999 [00:03<00:00, 11703.44 examples/s]\n",
      "Map (num_proc=4): 100%|██████████| 5000/5000 [00:02<00:00, 1827.93 examples/s]\n"
     ]
    }
   ],
   "source": [
    "# Add labels to tokenized data\n",
    "def add_labels(examples):\n",
    "    examples['labels'] = examples['input_ids'].copy()\n",
    "    return examples\n",
    "\n",
    "lm_datasets = tokenized_datasets.map(\n",
    "    add_labels,\n",
    "    batched=True,\n",
    "    batch_size=1000,\n",
    "    num_proc=4,\n",
    ")"
   ]
  },
  {
   "cell_type": "code",
   "execution_count": 14,
   "metadata": {},
   "outputs": [],
   "source": [
    "# Prepare training and validation datasets\n",
    "train_set = model.prepare_tf_dataset(\n",
    "    lm_datasets[\"train\"],\n",
    "    shuffle=True,\n",
    "    batch_size=BATCHES,\n",
    ")\n",
    "\n",
    "validation_set = model.prepare_tf_dataset(\n",
    "    lm_datasets[\"validation\"],\n",
    "    shuffle=False,\n",
    "    batch_size=BATCHES,\n",
    ")"
   ]
  },
  {
   "cell_type": "code",
   "execution_count": 15,
   "metadata": {},
   "outputs": [
    {
     "name": "stdout",
     "output_type": "stream",
     "text": [
      "Epoch 1/2\n",
      "22499/22499 [==============================] - 2192s 97ms/step - loss: 2.6236 - val_loss: 2.4633\n",
      "Epoch 2/2\n",
      "22499/22499 [==============================] - 2212s 98ms/step - loss: 2.4449 - val_loss: 2.4374\n",
      "Saving model at ../trained_models/gpt2-summarization-gpu\n"
     ]
    }
   ],
   "source": [
    "# Compile and train model\n",
    "if GPU_ENABLED:\n",
    "    with tf.device('/GPU:0'):\n",
    "        optimizer = AdamWeightDecay(learning_rate=2e-5, weight_decay_rate=0.01)\n",
    "        model.compile(optimizer=optimizer)\n",
    "        model.fit(\n",
    "            train_set, \n",
    "            validation_data=validation_set, \n",
    "            epochs=2,  \n",
    "            verbose=True)\n",
    "else:\n",
    "    optimizer = AdamWeightDecay(learning_rate=2e-5, weight_decay_rate=0.01)\n",
    "    model.compile(optimizer=optimizer)\n",
    "    model.fit(\n",
    "        train_set, \n",
    "        validation_data=validation_set, \n",
    "        epochs=2,  \n",
    "        verbose=True)\n",
    "\n",
    "# Save trained model\n",
    "print(f\"Saving model at {SAVE_MODEL_PATH}\")\n",
    "model.save_pretrained(SAVE_MODEL_PATH)"
   ]
  },
  {
   "cell_type": "code",
   "execution_count": 16,
   "metadata": {},
   "outputs": [
    {
     "name": "stderr",
     "output_type": "stream",
     "text": [
      "All model checkpoint layers were used when initializing TFGPT2LMHeadModel.\n",
      "\n",
      "All the layers of TFGPT2LMHeadModel were initialized from the model checkpoint at ../trained_models/gpt2-summarization/.\n",
      "If your task is similar to the task the model of the checkpoint was trained on, you can already use TFGPT2LMHeadModel for predictions without further training.\n"
     ]
    }
   ],
   "source": [
    "# save trained model\n",
    "model.save_pretrained('../trained_models/gpt2-summarization')\n",
    "# Load trained model\n",
    "model = TFAutoModelForCausalLM.from_pretrained('../trained_models/gpt2-summarization/')"
   ]
  }
 ],
 "metadata": {
  "kernelspec": {
   "display_name": "Python 3",
   "language": "python",
   "name": "python3"
  },
  "language_info": {
   "codemirror_mode": {
    "name": "ipython",
    "version": 3
   },
   "file_extension": ".py",
   "mimetype": "text/x-python",
   "name": "python",
   "nbconvert_exporter": "python",
   "pygments_lexer": "ipython3",
   "version": "3.9.18"
  }
 },
 "nbformat": 4,
 "nbformat_minor": 2
}
