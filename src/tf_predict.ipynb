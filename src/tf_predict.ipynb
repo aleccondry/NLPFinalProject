{
 "cells": [
  {
   "cell_type": "code",
   "execution_count": 26,
   "metadata": {},
   "outputs": [],
   "source": [
    "# necessary import statements\n",
    "import utils\n",
    "from transformers import AutoTokenizer, TFAutoModelForCausalLM\n",
    "from rouge_score import rouge_scorer, scoring\n",
    "import matplotlib.pyplot as plt\n",
    "import numpy as np\n",
    "from keras.models import Model, load_model\n",
    "import pandas as pd\n",
    "import os\n"
   ]
  },
  {
   "cell_type": "code",
   "execution_count": 27,
   "metadata": {},
   "outputs": [
    {
     "name": "stderr",
     "output_type": "stream",
     "text": [
      "All model checkpoint layers were used when initializing TFGPT2LMHeadModel.\n",
      "\n",
      "All the layers of TFGPT2LMHeadModel were initialized from the model checkpoint at ../trained_models/gpt2-summarization/.\n",
      "If your task is similar to the task the model of the checkpoint was trained on, you can already use TFGPT2LMHeadModel for predictions without further training.\n"
     ]
    }
   ],
   "source": [
    "# Load trained transformer model\n",
    "tf_model = TFAutoModelForCausalLM.from_pretrained('../trained_models/gpt2-summarization/')\n",
    "tokenizer = AutoTokenizer.from_pretrained('gpt2')\n",
    "\n",
    "# Constants\n",
    "TLDR = ' TL;DR '\n",
    "MAX_LEN = 512"
   ]
  },
  {
   "cell_type": "code",
   "execution_count": 28,
   "metadata": {},
   "outputs": [],
   "source": [
    "ah = {} # actual headlines for each dataset\n",
    "ph = {} # predicted headlines for each dataset\n",
    "\n",
    "def summarize_article_tf(model, article):\n",
    "    \"\"\" Summarize a given article using the fine-tuned GPT-2 model\"\"\"\n",
    "    tokenized = tokenizer(article, return_tensors=\"np\")\n",
    "    outputs = model.generate(**tokenized, max_new_tokens=32, pad_token_id=50256)\n",
    "    return tokenizer.decode(outputs[0])\n",
    "\n",
    "# Load results_tf if it exists \n",
    "if 'results_tf.csv' in os.listdir('../data/'):\n",
    "    preds_df = pd.read_csv('../data/results_tf.csv')\n",
    "    preds = {'predicted headline': preds_df['predicted headline'].tolist(), 'actual headline': preds_df['actual headline'].tolist()}\n",
    "else:\n",
    "    preds = {'predicted headline': [], 'actual headline': []}\n",
    "\n",
    "# Generate headlines using the test data\n",
    "with open('../data/test_data.txt', encoding='utf-8') as f:\n",
    "    idx = len(preds_df) - 1\n",
    "    lines = f.readlines()[idx:1000]\n",
    "    for line in lines:\n",
    "        idx += 1\n",
    "        article, actual_headline = line.strip().split(TLDR)\n",
    "        article = article + TLDR\n",
    "        ah[idx] = actual_headline\n",
    "        predicted_headline = summarize_article_tf(tf_model, article).split(TLDR)[1].replace('<|endoftext|>', '.').strip()\n",
    "        ph[idx] = predicted_headline\n",
    "        preds['predicted headline'].append(predicted_headline)\n",
    "        preds['actual headline'].append(actual_headline)\n",
    "        print(f'{idx}:')\n",
    "        print(f'\\tactual: {actual_headline}')\n",
    "        print(f'\\tpredic: {predicted_headline}')\n",
    "        if idx % 50 == 0 and idx != 0:\n",
    "            preds_df = pd.DataFrame.from_dict(preds, orient='columns')\n",
    "            preds_df.to_csv('../data/results_tf.csv')"
   ]
  }
 ],
 "metadata": {
  "kernelspec": {
   "display_name": "NLP",
   "language": "python",
   "name": "python3"
  },
  "language_info": {
   "codemirror_mode": {
    "name": "ipython",
    "version": 3
   },
   "file_extension": ".py",
   "mimetype": "text/x-python",
   "name": "python",
   "nbconvert_exporter": "python",
   "pygments_lexer": "ipython3",
   "version": "3.9.18"
  }
 },
 "nbformat": 4,
 "nbformat_minor": 2
}
