{
 "cells": [
  {
   "cell_type": "code",
   "execution_count": 1,
   "metadata": {},
   "outputs": [
    {
     "name": "stderr",
     "output_type": "stream",
     "text": [
      "c:\\Users\\alecc\\miniconda3\\envs\\tf\\lib\\site-packages\\tqdm\\auto.py:21: TqdmWarning: IProgress not found. Please update jupyter and ipywidgets. See https://ipywidgets.readthedocs.io/en/stable/user_install.html\n",
      "  from .autonotebook import tqdm as notebook_tqdm\n"
     ]
    }
   ],
   "source": [
    "# necessary import statements\n",
    "from transformers import AutoTokenizer, TFAutoModelForCausalLM\n",
    "import pandas as pd\n",
    "import os"
   ]
  },
  {
   "cell_type": "code",
   "execution_count": 2,
   "metadata": {},
   "outputs": [
    {
     "ename": "ResourceExhaustedError",
     "evalue": "{{function_node __wrapped__AssignVariableOp_device_/job:localhost/replica:0/task:0/device:GPU:0}} OOM when allocating tensor with shape[50257,768] and type float on /job:localhost/replica:0/task:0/device:GPU:0 by allocator GPU_0_bfc [Op:AssignVariableOp]",
     "output_type": "error",
     "traceback": [
      "\u001b[1;31m---------------------------------------------------------------------------\u001b[0m",
      "\u001b[1;31mResourceExhaustedError\u001b[0m                    Traceback (most recent call last)",
      "\u001b[1;32mc:\\Users\\alecc\\Documents\\Natural Language Processing\\NLPFinalProject\\src\\tf_predict.ipynb Cell 2\u001b[0m line \u001b[0;36m2\n\u001b[0;32m      <a href='vscode-notebook-cell:/c%3A/Users/alecc/Documents/Natural%20Language%20Processing/NLPFinalProject/src/tf_predict.ipynb#X34sZmlsZQ%3D%3D?line=0'>1</a>\u001b[0m \u001b[39m# Load trained transformer model\u001b[39;00m\n\u001b[1;32m----> <a href='vscode-notebook-cell:/c%3A/Users/alecc/Documents/Natural%20Language%20Processing/NLPFinalProject/src/tf_predict.ipynb#X34sZmlsZQ%3D%3D?line=1'>2</a>\u001b[0m tf_model \u001b[39m=\u001b[39m TFAutoModelForCausalLM\u001b[39m.\u001b[39;49mfrom_pretrained(\u001b[39m'\u001b[39;49m\u001b[39m../trained_models/gpt2-summarization/\u001b[39;49m\u001b[39m'\u001b[39;49m)\n\u001b[0;32m      <a href='vscode-notebook-cell:/c%3A/Users/alecc/Documents/Natural%20Language%20Processing/NLPFinalProject/src/tf_predict.ipynb#X34sZmlsZQ%3D%3D?line=2'>3</a>\u001b[0m tokenizer \u001b[39m=\u001b[39m AutoTokenizer\u001b[39m.\u001b[39mfrom_pretrained(\u001b[39m'\u001b[39m\u001b[39mgpt2\u001b[39m\u001b[39m'\u001b[39m)\n\u001b[0;32m      <a href='vscode-notebook-cell:/c%3A/Users/alecc/Documents/Natural%20Language%20Processing/NLPFinalProject/src/tf_predict.ipynb#X34sZmlsZQ%3D%3D?line=4'>5</a>\u001b[0m \u001b[39m# Constants\u001b[39;00m\n",
      "File \u001b[1;32mc:\\Users\\alecc\\miniconda3\\envs\\tf\\lib\\site-packages\\transformers\\models\\auto\\auto_factory.py:566\u001b[0m, in \u001b[0;36m_BaseAutoModelClass.from_pretrained\u001b[1;34m(cls, pretrained_model_name_or_path, *model_args, **kwargs)\u001b[0m\n\u001b[0;32m    564\u001b[0m \u001b[39melif\u001b[39;00m \u001b[39mtype\u001b[39m(config) \u001b[39min\u001b[39;00m \u001b[39mcls\u001b[39m\u001b[39m.\u001b[39m_model_mapping\u001b[39m.\u001b[39mkeys():\n\u001b[0;32m    565\u001b[0m     model_class \u001b[39m=\u001b[39m _get_model_class(config, \u001b[39mcls\u001b[39m\u001b[39m.\u001b[39m_model_mapping)\n\u001b[1;32m--> 566\u001b[0m     \u001b[39mreturn\u001b[39;00m model_class\u001b[39m.\u001b[39mfrom_pretrained(\n\u001b[0;32m    567\u001b[0m         pretrained_model_name_or_path, \u001b[39m*\u001b[39mmodel_args, config\u001b[39m=\u001b[39mconfig, \u001b[39m*\u001b[39m\u001b[39m*\u001b[39mhub_kwargs, \u001b[39m*\u001b[39m\u001b[39m*\u001b[39mkwargs\n\u001b[0;32m    568\u001b[0m     )\n\u001b[0;32m    569\u001b[0m \u001b[39mraise\u001b[39;00m \u001b[39mValueError\u001b[39;00m(\n\u001b[0;32m    570\u001b[0m     \u001b[39mf\u001b[39m\u001b[39m\"\u001b[39m\u001b[39mUnrecognized configuration class \u001b[39m\u001b[39m{\u001b[39;00mconfig\u001b[39m.\u001b[39m\u001b[39m__class__\u001b[39m\u001b[39m}\u001b[39;00m\u001b[39m for this kind of AutoModel: \u001b[39m\u001b[39m{\u001b[39;00m\u001b[39mcls\u001b[39m\u001b[39m.\u001b[39m\u001b[39m__name__\u001b[39m\u001b[39m}\u001b[39;00m\u001b[39m.\u001b[39m\u001b[39m\\n\u001b[39;00m\u001b[39m\"\u001b[39m\n\u001b[0;32m    571\u001b[0m     \u001b[39mf\u001b[39m\u001b[39m\"\u001b[39m\u001b[39mModel type should be one of \u001b[39m\u001b[39m{\u001b[39;00m\u001b[39m'\u001b[39m\u001b[39m, \u001b[39m\u001b[39m'\u001b[39m\u001b[39m.\u001b[39mjoin(c\u001b[39m.\u001b[39m\u001b[39m__name__\u001b[39m\u001b[39m \u001b[39m\u001b[39mfor\u001b[39;00m\u001b[39m \u001b[39mc\u001b[39m \u001b[39m\u001b[39min\u001b[39;00m\u001b[39m \u001b[39m\u001b[39mcls\u001b[39m\u001b[39m.\u001b[39m_model_mapping\u001b[39m.\u001b[39mkeys())\u001b[39m}\u001b[39;00m\u001b[39m.\u001b[39m\u001b[39m\"\u001b[39m\n\u001b[0;32m    572\u001b[0m )\n",
      "File \u001b[1;32mc:\\Users\\alecc\\miniconda3\\envs\\tf\\lib\\site-packages\\transformers\\modeling_tf_utils.py:2946\u001b[0m, in \u001b[0;36mTFPreTrainedModel.from_pretrained\u001b[1;34m(cls, pretrained_model_name_or_path, config, cache_dir, ignore_mismatched_sizes, force_download, local_files_only, token, revision, *model_args, **kwargs)\u001b[0m\n\u001b[0;32m   2939\u001b[0m         missing_keys, unexpected_keys, mismatched_keys \u001b[39m=\u001b[39m load_tf_sharded_weights(\n\u001b[0;32m   2940\u001b[0m             model,\n\u001b[0;32m   2941\u001b[0m             resolved_archive_file,\n\u001b[0;32m   2942\u001b[0m             ignore_mismatched_sizes\u001b[39m=\u001b[39mignore_mismatched_sizes,\n\u001b[0;32m   2943\u001b[0m             _prefix\u001b[39m=\u001b[39mload_weight_prefix,\n\u001b[0;32m   2944\u001b[0m         )\n\u001b[0;32m   2945\u001b[0m     \u001b[39melse\u001b[39;00m:\n\u001b[1;32m-> 2946\u001b[0m         missing_keys, unexpected_keys, mismatched_keys \u001b[39m=\u001b[39m load_tf_weights(\n\u001b[0;32m   2947\u001b[0m             model,\n\u001b[0;32m   2948\u001b[0m             resolved_archive_file,\n\u001b[0;32m   2949\u001b[0m             ignore_mismatched_sizes\u001b[39m=\u001b[39;49mignore_mismatched_sizes,\n\u001b[0;32m   2950\u001b[0m             _prefix\u001b[39m=\u001b[39;49mload_weight_prefix,\n\u001b[0;32m   2951\u001b[0m         )\n\u001b[0;32m   2952\u001b[0m \u001b[39mexcept\u001b[39;00m \u001b[39mOSError\u001b[39;00m \u001b[39mas\u001b[39;00m e:\n\u001b[0;32m   2953\u001b[0m     \u001b[39mtry\u001b[39;00m:\n",
      "File \u001b[1;32mc:\\Users\\alecc\\miniconda3\\envs\\tf\\lib\\site-packages\\transformers\\modeling_tf_utils.py:882\u001b[0m, in \u001b[0;36mload_tf_weights\u001b[1;34m(model, resolved_archive_file, ignore_mismatched_sizes, _prefix)\u001b[0m\n\u001b[0;32m    879\u001b[0m \u001b[39melse\u001b[39;00m:\n\u001b[0;32m    880\u001b[0m     load_function \u001b[39m=\u001b[39m load_tf_weights_from_h5\n\u001b[1;32m--> 882\u001b[0m \u001b[39mreturn\u001b[39;00m load_function(\n\u001b[0;32m    883\u001b[0m     model, resolved_archive_file, ignore_mismatched_sizes\u001b[39m=\u001b[39;49mignore_mismatched_sizes, _prefix\u001b[39m=\u001b[39;49m_prefix\n\u001b[0;32m    884\u001b[0m )\n",
      "File \u001b[1;32mc:\\Users\\alecc\\miniconda3\\envs\\tf\\lib\\site-packages\\transformers\\modeling_tf_utils.py:978\u001b[0m, in \u001b[0;36mload_tf_weights_from_h5\u001b[1;34m(model, resolved_archive_file, ignore_mismatched_sizes, _prefix)\u001b[0m\n\u001b[0;32m    975\u001b[0m                     weight_value_tuples\u001b[39m.\u001b[39mappend((symbolic_weight, array))\n\u001b[0;32m    977\u001b[0m \u001b[39m# Load all the weights\u001b[39;00m\n\u001b[1;32m--> 978\u001b[0m K\u001b[39m.\u001b[39;49mbatch_set_value(weight_value_tuples)\n\u001b[0;32m    980\u001b[0m \u001b[39m# Compute the missing and unexpected layers\u001b[39;00m\n\u001b[0;32m    981\u001b[0m missing_layers\u001b[39m.\u001b[39mextend(\u001b[39mlist\u001b[39m(symbolic_weights_names \u001b[39m-\u001b[39m saved_weight_names_set))\n",
      "File \u001b[1;32mc:\\Users\\alecc\\miniconda3\\envs\\tf\\lib\\site-packages\\tensorflow\\python\\util\\traceback_utils.py:153\u001b[0m, in \u001b[0;36mfilter_traceback.<locals>.error_handler\u001b[1;34m(*args, **kwargs)\u001b[0m\n\u001b[0;32m    151\u001b[0m \u001b[39mexcept\u001b[39;00m \u001b[39mException\u001b[39;00m \u001b[39mas\u001b[39;00m e:\n\u001b[0;32m    152\u001b[0m   filtered_tb \u001b[39m=\u001b[39m _process_traceback_frames(e\u001b[39m.\u001b[39m__traceback__)\n\u001b[1;32m--> 153\u001b[0m   \u001b[39mraise\u001b[39;00m e\u001b[39m.\u001b[39mwith_traceback(filtered_tb) \u001b[39mfrom\u001b[39;00m \u001b[39mNone\u001b[39;00m\n\u001b[0;32m    154\u001b[0m \u001b[39mfinally\u001b[39;00m:\n\u001b[0;32m    155\u001b[0m   \u001b[39mdel\u001b[39;00m filtered_tb\n",
      "File \u001b[1;32mc:\\Users\\alecc\\miniconda3\\envs\\tf\\lib\\site-packages\\keras\\backend.py:4302\u001b[0m, in \u001b[0;36mbatch_set_value\u001b[1;34m(tuples)\u001b[0m\n\u001b[0;32m   4300\u001b[0m \u001b[39mif\u001b[39;00m tf\u001b[39m.\u001b[39mexecuting_eagerly() \u001b[39mor\u001b[39;00m tf\u001b[39m.\u001b[39minside_function():\n\u001b[0;32m   4301\u001b[0m     \u001b[39mfor\u001b[39;00m x, value \u001b[39min\u001b[39;00m tuples:\n\u001b[1;32m-> 4302\u001b[0m         x\u001b[39m.\u001b[39;49massign(np\u001b[39m.\u001b[39;49masarray(value, dtype\u001b[39m=\u001b[39;49mdtype_numpy(x)))\n\u001b[0;32m   4303\u001b[0m \u001b[39melse\u001b[39;00m:\n\u001b[0;32m   4304\u001b[0m     \u001b[39mwith\u001b[39;00m get_graph()\u001b[39m.\u001b[39mas_default():\n",
      "\u001b[1;31mResourceExhaustedError\u001b[0m: {{function_node __wrapped__AssignVariableOp_device_/job:localhost/replica:0/task:0/device:GPU:0}} OOM when allocating tensor with shape[50257,768] and type float on /job:localhost/replica:0/task:0/device:GPU:0 by allocator GPU_0_bfc [Op:AssignVariableOp]"
     ]
    }
   ],
   "source": [
    "# Load trained transformer model\n",
    "tf_model = TFAutoModelForCausalLM.from_pretrained('../trained_models/gpt2-summarization/')\n",
    "tokenizer = AutoTokenizer.from_pretrained('gpt2')\n",
    "\n",
    "# Constants\n",
    "TLDR = ' TL;DR '\n",
    "MAX_LEN = 512"
   ]
  },
  {
   "cell_type": "code",
   "execution_count": 28,
   "metadata": {},
   "outputs": [],
   "source": [
    "ah = {} # actual headlines for each dataset\n",
    "ph = {} # predicted headlines for each dataset\n",
    "\n",
    "def summarize_article_tf(model, article):\n",
    "    \"\"\" Summarize a given article using the fine-tuned GPT-2 model\"\"\"\n",
    "    tokenized = tokenizer(article, return_tensors=\"np\")\n",
    "    outputs = model.generate(**tokenized, max_new_tokens=32, pad_token_id=50256)\n",
    "    return tokenizer.decode(outputs[0])\n",
    "\n",
    "# Load results_tf if it exists \n",
    "if 'results_tf.csv' in os.listdir('../data/'):\n",
    "    preds_df = pd.read_csv('../data/results_tf.csv')\n",
    "    preds = {'predicted headline': preds_df['predicted headline'].tolist(), 'actual headline': preds_df['actual headline'].tolist()}\n",
    "else:\n",
    "    preds = {'predicted headline': [], 'actual headline': []}\n",
    "\n",
    "# Generate headlines using the test data\n",
    "with open('../data/test_data.txt', encoding='utf-8') as f:\n",
    "    idx = len(preds_df) - 1\n",
    "    lines = f.readlines()[idx:1000]\n",
    "    for line in lines:\n",
    "        idx += 1\n",
    "        article, actual_headline = line.strip().split(TLDR)\n",
    "        article = article + TLDR\n",
    "        ah[idx] = actual_headline\n",
    "        predicted_headline = summarize_article_tf(tf_model, article).split(TLDR)[1].replace('<|endoftext|>', '.').strip()\n",
    "        ph[idx] = predicted_headline\n",
    "        preds['predicted headline'].append(predicted_headline)\n",
    "        preds['actual headline'].append(actual_headline)\n",
    "        print(f'{idx}:')\n",
    "        print(f'\\tactual: {actual_headline}')\n",
    "        print(f'\\tpredic: {predicted_headline}')\n",
    "        if idx % 50 == 0 and idx != 0:\n",
    "            preds_df = pd.DataFrame.from_dict(preds, orient='columns')\n",
    "            preds_df.to_csv('../data/results_tf.csv')"
   ]
  }
 ],
 "metadata": {
  "kernelspec": {
   "display_name": "NLP",
   "language": "python",
   "name": "python3"
  },
  "language_info": {
   "codemirror_mode": {
    "name": "ipython",
    "version": 3
   },
   "file_extension": ".py",
   "mimetype": "text/x-python",
   "name": "python",
   "nbconvert_exporter": "python",
   "pygments_lexer": "ipython3",
   "version": "3.9.18"
  }
 },
 "nbformat": 4,
 "nbformat_minor": 2
}
