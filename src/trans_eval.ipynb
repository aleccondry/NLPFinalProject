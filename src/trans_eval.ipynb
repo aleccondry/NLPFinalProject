{
 "cells": [
  {
   "cell_type": "code",
   "execution_count": 21,
   "metadata": {},
   "outputs": [
    {
     "name": "stderr",
     "output_type": "stream",
     "text": [
      "c:\\Users\\Stephen\\anaconda3\\envs\\NLP\\Lib\\site-packages\\tqdm\\auto.py:21: TqdmWarning: IProgress not found. Please update jupyter and ipywidgets. See https://ipywidgets.readthedocs.io/en/stable/user_install.html\n",
      "  from .autonotebook import tqdm as notebook_tqdm\n"
     ]
    }
   ],
   "source": [
    "import utils\n",
    "from transformers import GPT2Tokenizer\n",
    "from rouge_score import rouge_scorer, scoring"
   ]
  },
  {
   "cell_type": "code",
   "execution_count": 22,
   "metadata": {},
   "outputs": [],
   "source": [
    "# setup ROUGE scorer and tokenizer\n",
    "\n",
    "# can edit the different rouge scores we want; research which will be best\n",
    "scorer = rouge_scorer.RougeScorer(['rouge1', 'rouge2', 'rougeL', 'rougeLsum'], use_stemmer=True)\n",
    "tokenizer = GPT2Tokenizer.from_pretrained('gpt2')"
   ]
  },
  {
   "cell_type": "code",
   "execution_count": 49,
   "metadata": {},
   "outputs": [],
   "source": [
    "# prepare the headline data in the string format used by the scorer\n",
    "# TODO: get the actual and predicted headlines from the model once it is run\n",
    "actual_headlines = {} # GET TESTING HEADLINES FOR EACH DATASET\n",
    "predicted_headlines = {} # GET PREDICTED HEADLINES FOR EACH DATASET\n",
    "# NOTE: the above dicts should be 1 to 1, (the keys and headline lists should be the same)\n",
    "for dataset in actual_headlines:\n",
    "    for i in range(len(actual_headlines[dataset])):\n",
    "        actual_headlines[dataset][i] = tokenizer.decode(actual_headlines[dataset][i])\n",
    "        predicted_headlines[dataset][i] = tokenizer.decode(predicted_headlines[dataset][i])\n"
   ]
  },
  {
   "cell_type": "code",
   "execution_count": 26,
   "metadata": {},
   "outputs": [],
   "source": [
    "# calculate ROUGE score(s) for each dataset\n",
    "rouge_scores = {}\n",
    "for dataset in actual_headlines:\n",
    "    rouge_scores[dataset] = []\n",
    "    for i in range(len(actual_headlines[dataset])):\n",
    "        rouge_scores[dataset].append(scorer.score(actual_headlines[dataset][i], predicted_headlines[dataset][i]))"
   ]
  },
  {
   "cell_type": "code",
   "execution_count": 47,
   "metadata": {},
   "outputs": [
    {
     "ename": "ZeroDivisionError",
     "evalue": "division by zero",
     "output_type": "error",
     "traceback": [
      "\u001b[1;31m---------------------------------------------------------------------------\u001b[0m",
      "\u001b[1;31mZeroDivisionError\u001b[0m                         Traceback (most recent call last)",
      "\u001b[1;32mc:\\Users\\Stephen\\NLPFinalProject\\src\\trans_eval.ipynb Cell 6\u001b[0m line \u001b[0;36m2\n\u001b[0;32m     <a href='vscode-notebook-cell:/c%3A/Users/Stephen/NLPFinalProject/src/trans_eval.ipynb#W6sZmlsZQ%3D%3D?line=22'>23</a>\u001b[0m     recall \u001b[39m+\u001b[39m\u001b[39m=\u001b[39m avg_rouge_scores[dataset]\u001b[39m.\u001b[39mrecall\n\u001b[0;32m     <a href='vscode-notebook-cell:/c%3A/Users/Stephen/NLPFinalProject/src/trans_eval.ipynb#W6sZmlsZQ%3D%3D?line=23'>24</a>\u001b[0m     fmeasure \u001b[39m+\u001b[39m\u001b[39m=\u001b[39m avg_rouge_scores[dataset]\u001b[39m.\u001b[39mfmeasure\n\u001b[1;32m---> <a href='vscode-notebook-cell:/c%3A/Users/Stephen/NLPFinalProject/src/trans_eval.ipynb#W6sZmlsZQ%3D%3D?line=24'>25</a>\u001b[0m precision \u001b[39m/\u001b[39m\u001b[39m=\u001b[39m \u001b[39mlen\u001b[39m(avg_rouge_scores)\n\u001b[0;32m     <a href='vscode-notebook-cell:/c%3A/Users/Stephen/NLPFinalProject/src/trans_eval.ipynb#W6sZmlsZQ%3D%3D?line=25'>26</a>\u001b[0m recall \u001b[39m/\u001b[39m\u001b[39m=\u001b[39m \u001b[39mlen\u001b[39m(avg_rouge_scores)\n\u001b[0;32m     <a href='vscode-notebook-cell:/c%3A/Users/Stephen/NLPFinalProject/src/trans_eval.ipynb#W6sZmlsZQ%3D%3D?line=26'>27</a>\u001b[0m fmeasure \u001b[39m/\u001b[39m\u001b[39m=\u001b[39m \u001b[39mlen\u001b[39m(avg_rouge_scores)\n",
      "\u001b[1;31mZeroDivisionError\u001b[0m: division by zero"
     ]
    }
   ],
   "source": [
    "# calculate average ROUGE score(s) for each dataset\n",
    "# NOTE: keeping the div by 0 failure to make debugging easier\n",
    "avg_rouge_scores = {}\n",
    "for dataset in rouge_scores:\n",
    "    precision = 0\n",
    "    recall = 0\n",
    "    fmeasure = 0\n",
    "    for score in rouge_scores[dataset]:\n",
    "        precision += score['rouge1'].precision\n",
    "        recall += score['rouge1'].recall\n",
    "        fmeasure += score['rouge1'].fmeasure\n",
    "    precision /= len(rouge_scores[dataset])\n",
    "    recall /= len(rouge_scores[dataset])\n",
    "    fmeasure /= len(rouge_scores[dataset])\n",
    "    avg_rouge_scores[dataset] = scoring.Score(precision=precision, recall=recall, fmeasure=fmeasure)\n",
    "\n",
    "# also calculate overall average score\n",
    "precision = 0\n",
    "recall = 0\n",
    "fmeasure = 0\n",
    "for dataset in avg_rouge_scores:\n",
    "    precision += avg_rouge_scores[dataset].precision\n",
    "    recall += avg_rouge_scores[dataset].recall\n",
    "    fmeasure += avg_rouge_scores[dataset].fmeasure\n",
    "precision /= len(avg_rouge_scores)\n",
    "recall /= len(avg_rouge_scores)\n",
    "fmeasure /= len(avg_rouge_scores)\n",
    "overall_score = scoring.Score(precision=precision, recall=recall, fmeasure=fmeasure)"
   ]
  },
  {
   "cell_type": "code",
   "execution_count": 50,
   "metadata": {},
   "outputs": [],
   "source": [
    "# example usage\n",
    "\n",
    "scorer = rouge_scorer.RougeScorer(['rouge1', 'rougeL'], use_stemmer=True)\n",
    "scores = scorer.score('The quick brown fox jumps over the lazy dog',\n",
    "                      'The quick brown dog jumps on the log.')"
   ]
  },
  {
   "cell_type": "code",
   "execution_count": 39,
   "metadata": {},
   "outputs": [
    {
     "data": {
      "text/plain": [
       "{'rouge1': Score(precision=0.75, recall=0.6666666666666666, fmeasure=0.7058823529411765),\n",
       " 'rougeL': Score(precision=0.625, recall=0.5555555555555556, fmeasure=0.5882352941176471)}"
      ]
     },
     "execution_count": 39,
     "metadata": {},
     "output_type": "execute_result"
    }
   ],
   "source": [
    "scores"
   ]
  },
  {
   "cell_type": "code",
   "execution_count": 45,
   "metadata": {},
   "outputs": [
    {
     "data": {
      "text/plain": [
       "Score(precision=0.1, recall=0.2, fmeasure=0.3)"
      ]
     },
     "execution_count": 45,
     "metadata": {},
     "output_type": "execute_result"
    }
   ],
   "source": [
    "scoring.Score(.1,.2,.3)"
   ]
  }
 ],
 "metadata": {
  "kernelspec": {
   "display_name": "NLP",
   "language": "python",
   "name": "python3"
  },
  "language_info": {
   "codemirror_mode": {
    "name": "ipython",
    "version": 3
   },
   "file_extension": ".py",
   "mimetype": "text/x-python",
   "name": "python",
   "nbconvert_exporter": "python",
   "pygments_lexer": "ipython3",
   "version": "3.11.4"
  }
 },
 "nbformat": 4,
 "nbformat_minor": 2
}
